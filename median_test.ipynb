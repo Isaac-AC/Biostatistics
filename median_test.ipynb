{
 "cells": [
  {
   "attachments": {},
   "cell_type": "markdown",
   "metadata": {},
   "source": [
    "# THE MEDIAN TEST\n",
    "\n",
    "The median test is a non-parametric test used to compare the medians of two independent samples. It is a simple and easy-to-use test that can be used to detect differences in medians even when the data is not normally distributed."
   ]
  },
  {
   "attachments": {},
   "cell_type": "markdown",
   "metadata": {},
   "source": [
    "#### 13.5.1 \n",
    "\n",
    "Fifteen patient records from each of two hospitals were reviewed and assigned a score designed to\n",
    "measure level of care. The scores were as follows:\n",
    "\n",
    "Would you conclude, at the .05 level of significance, that the two population medians are different?\n",
    "Determine the p value.\n"
   ]
  },
  {
   "cell_type": "code",
   "execution_count": 6,
   "metadata": {
    "vscode": {
     "languageId": "r"
    }
   },
   "outputs": [
    {
     "data": {
      "text/html": [
       "<table class=\"dataframe\">\n",
       "<caption>A data.frame: 2 × 2</caption>\n",
       "<thead>\n",
       "\t<tr><th></th><th scope=col>Above</th><th scope=col>Below</th></tr>\n",
       "\t<tr><th></th><th scope=col>&lt;int&gt;</th><th scope=col>&lt;int&gt;</th></tr>\n",
       "</thead>\n",
       "<tbody>\n",
       "\t<tr><th scope=row>A</th><td>13</td><td> 2</td></tr>\n",
       "\t<tr><th scope=row>B</th><td> 2</td><td>13</td></tr>\n",
       "</tbody>\n",
       "</table>\n"
      ],
      "text/latex": [
       "A data.frame: 2 × 2\n",
       "\\begin{tabular}{r|ll}\n",
       "  & Above & Below\\\\\n",
       "  & <int> & <int>\\\\\n",
       "\\hline\n",
       "\tA & 13 &  2\\\\\n",
       "\tB &  2 & 13\\\\\n",
       "\\end{tabular}\n"
      ],
      "text/markdown": [
       "\n",
       "A data.frame: 2 × 2\n",
       "\n",
       "| <!--/--> | Above &lt;int&gt; | Below &lt;int&gt; |\n",
       "|---|---|---|\n",
       "| A | 13 |  2 |\n",
       "| B |  2 | 13 |\n",
       "\n"
      ],
      "text/plain": [
       "  Above Below\n",
       "A 13     2   \n",
       "B  2    13   "
      ]
     },
     "metadata": {},
     "output_type": "display_data"
    },
    {
     "data": {
      "text/plain": [
       "\n",
       "\tPearson's Chi-squared test\n",
       "\n",
       "data:  data\n",
       "X-squared = 16.133, df = 1, p-value = 5.904e-05\n"
      ]
     },
     "metadata": {},
     "output_type": "display_data"
    }
   ],
   "source": [
    "# library(\"coin\") # is not necesari if i don use median_test\n",
    "\n",
    "A <- c(99, 85, 73, 98, 83, 88, 99, 80, 74, 91, 80, 94, 94, 98, 80)\n",
    "B <- c(78, 74, 69, 79, 57, 78, 79, 68, 59, 91, 89, 55, 60, 55, 79)\n",
    "\n",
    "w <- sort(c(A, B))\n",
    "mean_w = mean(w)\n",
    "A_above <- length(A[A>mean_w])\n",
    "A_below <- length(A[A<mean_w])\n",
    "B_above <- length(B[B>mean_w])\n",
    "B_below <- length(B[B<mean_w])\n",
    "\n",
    "\n",
    "data <- matrix(c(A_above, A_below, B_above, B_below), nrow = 2, byrow = TRUE)\n",
    "colnames(data) <- c(\"Above\", \"Below\")\n",
    "rownames(data) <- c(\"A\", \"B\")\n",
    "\n",
    "# Convert the matrix to a data frame\n",
    "data <- as.data.frame(data)\n",
    "data\n",
    "\n",
    "\n",
    "# Perform the median test\n",
    "# median_test(as.numeric(data$Above) ~ as.factor(rownames(data)))\n",
    "\n",
    "chisq.test(data, correct = F)\n"
   ]
  },
  {
   "attachments": {},
   "cell_type": "markdown",
   "metadata": {},
   "source": [
    "At the 0.05 level of significance, there is sufficient evidence to reject the null hypothesis that the distribution of scores (above and below the mean) is the same for both groups A and B. The p-value of 5.904e-05 is smaller than the significance level of 0.05, indicating a statistically significant difference.\n",
    "\n",
    "Therefore, we can conclude that the two population distributions represented by groups A and B have different proportions of scores above and below the mean."
   ]
  },
  {
   "attachments": {},
   "cell_type": "markdown",
   "metadata": {},
   "source": [
    "#### 13.5.2\n",
    "\n",
    "The following serum albumin values were obtained from 17 normal and 13 hospitalized subjects.\n",
    "\n",
    "Would you conclude at the .05 level of significance that the medians of the two populations sampled\n",
    "are different? Determine the p value."
   ]
  },
  {
   "cell_type": "code",
   "execution_count": 8,
   "metadata": {
    "vscode": {
     "languageId": "r"
    }
   },
   "outputs": [
    {
     "data": {
      "text/html": [
       "<table class=\"dataframe\">\n",
       "<caption>A data.frame: 2 × 2</caption>\n",
       "<thead>\n",
       "\t<tr><th></th><th scope=col>Above</th><th scope=col>Below</th></tr>\n",
       "\t<tr><th></th><th scope=col>&lt;int&gt;</th><th scope=col>&lt;int&gt;</th></tr>\n",
       "</thead>\n",
       "<tbody>\n",
       "\t<tr><th scope=row>A</th><td>14</td><td>3</td></tr>\n",
       "\t<tr><th scope=row>B</th><td> 4</td><td>9</td></tr>\n",
       "</tbody>\n",
       "</table>\n"
      ],
      "text/latex": [
       "A data.frame: 2 × 2\n",
       "\\begin{tabular}{r|ll}\n",
       "  & Above & Below\\\\\n",
       "  & <int> & <int>\\\\\n",
       "\\hline\n",
       "\tA & 14 & 3\\\\\n",
       "\tB &  4 & 9\\\\\n",
       "\\end{tabular}\n"
      ],
      "text/markdown": [
       "\n",
       "A data.frame: 2 × 2\n",
       "\n",
       "| <!--/--> | Above &lt;int&gt; | Below &lt;int&gt; |\n",
       "|---|---|---|\n",
       "| A | 14 | 3 |\n",
       "| B |  4 | 9 |\n",
       "\n"
      ],
      "text/plain": [
       "  Above Below\n",
       "A 14    3    \n",
       "B  4    9    "
      ]
     },
     "metadata": {},
     "output_type": "display_data"
    },
    {
     "data": {
      "text/plain": [
       "\n",
       "\tPearson's Chi-squared test\n",
       "\n",
       "data:  data\n",
       "X-squared = 8.1674, df = 1, p-value = 0.004265\n"
      ]
     },
     "metadata": {},
     "output_type": "display_data"
    }
   ],
   "source": [
    "A <- c(2.4,3.5,3.1,4.0,4.2,3.0,3.2,3.5,3.8,3.9,3.4,4.5,5.0,2.9,4.0,3.5,3.6)\n",
    "B <- c(1.5,2.0,3.4,1.7,2.0,3.1,1.3,1.5,1.8,2.0,3.8,3.5,1.5)\n",
    "\n",
    "w <- sort(c(A, B))\n",
    "mean_w = mean(w)\n",
    "A_above <- length(A[A>mean_w])\n",
    "A_below <- length(A[A<mean_w])\n",
    "B_above <- length(B[B>mean_w])\n",
    "B_below <- length(B[B<mean_w])\n",
    "\n",
    "\n",
    "data <- matrix(c(A_above, A_below, B_above, B_below), nrow = 2, byrow = TRUE)\n",
    "colnames(data) <- c(\"Above\", \"Below\")\n",
    "rownames(data) <- c(\"A\", \"B\")\n",
    "\n",
    "# Convert the matrix to a data frame\n",
    "data <- as.data.frame(data)\n",
    "data\n",
    "\n",
    "chisq.test(data, correct = F)"
   ]
  },
  {
   "attachments": {},
   "cell_type": "markdown",
   "metadata": {},
   "source": [
    "At the 0.05 level of significance, there is sufficient evidence to reject the null hypothesis that the medians of the two populations sampled are the same. The p-value of 0.004265 is smaller than the significance level of 0.05, indicating a statistically significant difference.\n",
    "\n",
    "Therefore, we can conclude that the medians of the two populations are different."
   ]
  }
 ],
 "metadata": {
  "kernelspec": {
   "display_name": "R",
   "language": "R",
   "name": "ir"
  },
  "language_info": {
   "codemirror_mode": "r",
   "file_extension": ".r",
   "mimetype": "text/x-r-source",
   "name": "R",
   "pygments_lexer": "r",
   "version": "4.2.3"
  },
  "orig_nbformat": 4
 },
 "nbformat": 4,
 "nbformat_minor": 2
}
