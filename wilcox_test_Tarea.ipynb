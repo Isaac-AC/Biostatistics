{
  "nbformat": 4,
  "nbformat_minor": 0,
  "metadata": {
    "colab": {
      "provenance": []
    },
    "kernelspec": {
      "name": "ir",
      "display_name": "R"
    },
    "language_info": {
      "name": "R"
    }
  },
  "cells": [
    {
      "cell_type": "markdown",
      "source": [
        "# Uriel Isaac Alvarez Cardenas"
      ],
      "metadata": {
        "id": "93s_a3Gd4ffq"
      }
    },
    {
      "cell_type": "markdown",
      "source": [
        "# Problema 1\n",
        "\n",
        "Supongamos que se desea usar la prueba de la suma de rangos de Wilcoxon, para detectar un corrimiento en la distribucion 2, con base en muestras de tamaño n1 = 6 y n2 = 8.\n",
        "\n",
        "a. Se debe usar T1 o T1* como el estadistico de prueba?\n",
        "\n",
        "b. Cual es la region de rechazo para la prueba si \\alpha = .05?\n",
        "\n",
        "c. Cual es la region de rechazo para la prueba si \\alpha = .01?"
      ],
      "metadata": {
        "id": "KMLbkoBC13gw"
      }
    },
    {
      "cell_type": "markdown",
      "source": [
        "Creo que son necesarios mas datos para contestar el problema"
      ],
      "metadata": {
        "id": "WOssl5Dd3vKq"
      }
    },
    {
      "cell_type": "markdown",
      "source": [
        "# Problema 2\n",
        "observaciones de dos muestras aleatorias e independientes, tomadas de las poblaciones 1 y 2, se dan aqui. use la prueba de la suma de rango de wilcoxon para determinar si la poblacion 1 esta corrida a la izquierda a la izquierda de la poblacion 2."
      ],
      "metadata": {
        "id": "9mjnYFI4yMDj"
      }
    },
    {
      "cell_type": "code",
      "execution_count": null,
      "metadata": {
        "colab": {
          "base_uri": "https://localhost:8080/",
          "height": 211
        },
        "id": "jnMtqMYixPtC",
        "outputId": "c94974ae-9d9f-430d-b687-994c022d4ed3"
      },
      "outputs": [
        {
          "output_type": "stream",
          "name": "stderr",
          "text": [
            "Warning message in wilcox.test.default(muestra1, muestra2, alternative = \"less\"):\n",
            "“cannot compute exact p-value with ties”\n"
          ]
        },
        {
          "output_type": "display_data",
          "data": {
            "text/plain": [
              "\n",
              "\tWilcoxon rank sum test with continuity correction\n",
              "\n",
              "data:  muestra1 and muestra2\n",
              "W = 1, p-value = 0.01039\n",
              "alternative hypothesis: true location shift is less than 0\n"
            ]
          },
          "metadata": {}
        }
      ],
      "source": [
        "# Datos de las muestras\n",
        "muestra1 <- c(1, 3, 2, 3, 5)\n",
        "muestra2 <- c(4, 7, 6, 8, 6)\n",
        "\n",
        "# Prueba de suma de rangos de Wilcoxon\n",
        "wilcox.test(muestra1, muestra2, alternative = \"less\")"
      ]
    },
    {
      "cell_type": "markdown",
      "source": [
        "\n",
        "\n",
        "a. Hipótesis nula (H0): No hay diferencia en las ubicaciones de las poblaciones 1 y 2.\n",
        "   Hipótesis alternativa (H1): La población 1 está desplazada hacia la izquierda de la población 2.\n",
        "\n",
        "b. Ordenando la muestra combinada de menor a mayor: 1, 2, 3, 3, 4, 5, 6, 6, 7, 8\n",
        "\n",
        "   Calculando T1, la suma de los rangos para los valores de la muestra 1:\n",
        "   T1 = rango(1) + rango(3) + rango(2) + rango(3) + rango(5)\n",
        "   T1 = 1 + 3 + 2 + 3 + 5\n",
        "   T1 = 14\n",
        "\n",
        "   Calculando T1*, utilizando la fórmula:\n",
        "   T1* = n1 * (n1 + n2 + 1) / 2 - T1\n",
        "   T1* = 5 * (5 + 5 + 1) / 2 - 14\n",
        "   T1* = 5 * 11 / 2 - 14\n",
        "   T1* = 27.5 - 14\n",
        "   T1* = 13.5\n",
        "\n",
        "c. La región de rechazo para α = 0.05 en la prueba de suma de rangos de Wilcoxon de una cola (menor que) es cuando T1* es menor o igual al valor crítico.\n",
        "\n",
        "   Utilizando la tabla de valores críticos de Wilcoxon, el valor crítico correspondiente a α = 0.05 (una cola) y n1 = 5, n2 = 5 es aproximadamente 10.\n",
        "\n",
        "   Entonces, la región de rechazo para α = 0.05 es T1* ≤ 10.\n",
        "\n",
        "d. El valor p obtenido en la salida del código es 0.01039. Como el valor p es menor que α = 0.05, podemos rechazar la hipótesis nula.\n",
        "\n",
        "   Por lo tanto, hay suficiente evidencia para indicar que la población 1 está desplazada hacia la izquierda de la población 2."
      ],
      "metadata": {
        "id": "y47ADASMxsQm"
      }
    },
    {
      "cell_type": "markdown",
      "source": [
        "# Problema 3\n",
        "Enfermedad de Alzheimer En algunas pruebas de salud en ancianos, un nuevo medicamento ha restaurado su memoria casi como la de jovenes. pronto se probara en pacientes con enfermedad de Alzheimer, esa fatal enfermedad del cerebro que destruye la mente. Segun el Dr. Gary Lynch, de la Universidad de California en Irvine, el medicamento, llamado ampakana CX-516, acelera señales entre 65 y 70 años de edad, los resultados fueron particularmente sorprendentes. Despues de recibir dosis moderadas de este medicamento, las personas de entre 65 y 70 años de edad calificaron casi tan alto como los jovenes. Los datos siguientes son los numeros de silabas sin sentido recordadas despues de 5 minutos, para 10 hombres de poco mas de 20 años de edad y 10 señores de entre 65 y 70 años. Use la prueba de suma de rango de wilcoxon para determinar si las distribucions para el numero de silabas sin snetido recordadas son iguales para estos dos grupos"
      ],
      "metadata": {
        "id": "Q-Vw_otr0wR1"
      }
    },
    {
      "cell_type": "code",
      "source": [
        "# Datos de los grupos\n",
        "grupo_20s <- c(3, 6, 4, 8, 7, 1, 1, 2, 7, 8)\n",
        "grupo_65_70s <- c(1, 0, 4, 1, 2, 5, 0, 2, 2, 3)\n",
        "\n",
        "# Prueba de suma de rangos de Wilcoxon\n",
        "wilcox.test(grupo_20s, grupo_65_70s)\n"
      ],
      "metadata": {
        "colab": {
          "base_uri": "https://localhost:8080/",
          "height": 211
        },
        "id": "sVLveFBP09z7",
        "outputId": "148cb5b1-1648-4aa4-e613-fcebbcc9e41c"
      },
      "execution_count": null,
      "outputs": [
        {
          "output_type": "stream",
          "name": "stderr",
          "text": [
            "Warning message in wilcox.test.default(grupo_20s, grupo_65_70s):\n",
            "“cannot compute exact p-value with ties”\n"
          ]
        },
        {
          "output_type": "display_data",
          "data": {
            "text/plain": [
              "\n",
              "\tWilcoxon rank sum test with continuity correction\n",
              "\n",
              "data:  grupo_20s and grupo_65_70s\n",
              "W = 77.5, p-value = 0.03935\n",
              "alternative hypothesis: true location shift is not equal to 0\n"
            ]
          },
          "metadata": {}
        }
      ]
    },
    {
      "cell_type": "markdown",
      "source": [
        "El valor p obtenido es 0.03935. Como el valor p es menor que el nivel de significancia comúnmente utilizado de α = 0.05, podemos rechazar la hipótesis nula de que las distribuciones para el número de sílabas sin sentido recordadas son iguales para los dos grupos. Por lo tanto, hay evidencia suficiente para indicar que hay una diferencia significativa en las distribuciones entre los grupos de hombres de poco más de 20 años y los señores de entre 65 y 70 años."
      ],
      "metadata": {
        "id": "YVGc2L9A1btJ"
      }
    },
    {
      "cell_type": "markdown",
      "source": [
        "# Problema 4\n",
        "Suponga que dos grupos mas de 10 hombres cada uno son probados sobre el numero de silabas sin sentido que podian recordar despues de 5 minutos. No obstenate , a los señores de entre 65 y 70 se les da una dosis moderada de ampakina CX-516. ¿los datos dan suficiente evidencia para concluir que este medicamento mejora la memoria en pacientes de entre 65 y 70 años en comparacion con los de poco mas de 20 años? Use un nivel apropiado de $\\alpha$."
      ],
      "metadata": {
        "id": "VQsJEM6o31wM"
      }
    },
    {
      "cell_type": "code",
      "source": [
        "# Datos de los grupos\n",
        "grupo_20s <- c(11, 7, 6, 8, 6, 9, 2, 10, 3, 6)\n",
        "grupo_65_70s <- c(1, 9, 6, 8, 7, 8, 5, 7, 10, 3)\n",
        "\n",
        "# Prueba de suma de rangos de Wilcoxon\n",
        "wilcox.test(grupo_20s, grupo_65_70s, paired = FALSE)\n"
      ],
      "metadata": {
        "colab": {
          "base_uri": "https://localhost:8080/",
          "height": 211
        },
        "id": "QXXRTsj331L2",
        "outputId": "e50e4732-1d1d-4802-9fb6-836b66dd3dd4"
      },
      "execution_count": null,
      "outputs": [
        {
          "output_type": "stream",
          "name": "stderr",
          "text": [
            "Warning message in wilcox.test.default(grupo_20s, grupo_65_70s, paired = FALSE):\n",
            "“cannot compute exact p-value with ties”\n"
          ]
        },
        {
          "output_type": "display_data",
          "data": {
            "text/plain": [
              "\n",
              "\tWilcoxon rank sum test with continuity correction\n",
              "\n",
              "data:  grupo_20s and grupo_65_70s\n",
              "W = 53, p-value = 0.8489\n",
              "alternative hypothesis: true location shift is not equal to 0\n"
            ]
          },
          "metadata": {}
        }
      ]
    },
    {
      "cell_type": "markdown",
      "source": [
        "El valor p obtenido es 0.8489. Como el valor p es mayor que el nivel de significancia comúnmente utilizado de α = 0.05, no hay evidencia suficiente para concluir que este medicamento mejora la memoria en pacientes de entre 65 y 70 años en comparación con los de poco más de 20 años. No se encontró un corrimiento significativo en la distribución de los grupos después de administrar la dosis moderada de ampakina CX-516.\n",
        "\n",
        "Los datos no proporcionan suficiente evidencia para concluir que el medicamento mejora la memoria en pacientes de entre 65 y 70 años en comparación con los de poco más de 20 años."
      ],
      "metadata": {
        "id": "ZlGpxaBz4TI2"
      }
    }
  ]
}