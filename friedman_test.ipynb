{
 "cells": [
  {
   "attachments": {},
   "cell_type": "markdown",
   "metadata": {},
   "source": [
    "# THE FRIEDMAN TWO-WAY ANALYSIS OF VARIANCE BY RANKS\n",
    "\n",
    "Is a non-parametric statistical test used to analyze data when comparing multiple treatments or conditions. It is an extension of the Wilcoxon signed-rank test for paired samples to the case of more than two related samples."
   ]
  },
  {
   "cell_type": "code",
   "execution_count": 3,
   "metadata": {
    "vscode": {
     "languageId": "r"
    }
   },
   "outputs": [
    {
     "data": {
      "text/html": [
       "<table class=\"dataframe\">\n",
       "<caption>A data.frame: 9 × 4</caption>\n",
       "<thead>\n",
       "\t<tr><th scope=col>THERAPIST</th><th scope=col>A</th><th scope=col>B</th><th scope=col>C</th></tr>\n",
       "\t<tr><th scope=col>&lt;int&gt;</th><th scope=col>&lt;int&gt;</th><th scope=col>&lt;int&gt;</th><th scope=col>&lt;int&gt;</th></tr>\n",
       "</thead>\n",
       "<tbody>\n",
       "\t<tr><td>1</td><td>2</td><td>3</td><td>1</td></tr>\n",
       "\t<tr><td>2</td><td>2</td><td>3</td><td>1</td></tr>\n",
       "\t<tr><td>3</td><td>2</td><td>3</td><td>1</td></tr>\n",
       "\t<tr><td>4</td><td>1</td><td>3</td><td>2</td></tr>\n",
       "\t<tr><td>5</td><td>3</td><td>2</td><td>1</td></tr>\n",
       "\t<tr><td>6</td><td>1</td><td>2</td><td>3</td></tr>\n",
       "\t<tr><td>7</td><td>2</td><td>3</td><td>1</td></tr>\n",
       "\t<tr><td>8</td><td>1</td><td>3</td><td>2</td></tr>\n",
       "\t<tr><td>9</td><td>1</td><td>3</td><td>2</td></tr>\n",
       "</tbody>\n",
       "</table>\n"
      ],
      "text/latex": [
       "A data.frame: 9 × 4\n",
       "\\begin{tabular}{llll}\n",
       " THERAPIST & A & B & C\\\\\n",
       " <int> & <int> & <int> & <int>\\\\\n",
       "\\hline\n",
       "\t 1 & 2 & 3 & 1\\\\\n",
       "\t 2 & 2 & 3 & 1\\\\\n",
       "\t 3 & 2 & 3 & 1\\\\\n",
       "\t 4 & 1 & 3 & 2\\\\\n",
       "\t 5 & 3 & 2 & 1\\\\\n",
       "\t 6 & 1 & 2 & 3\\\\\n",
       "\t 7 & 2 & 3 & 1\\\\\n",
       "\t 8 & 1 & 3 & 2\\\\\n",
       "\t 9 & 1 & 3 & 2\\\\\n",
       "\\end{tabular}\n"
      ],
      "text/markdown": [
       "\n",
       "A data.frame: 9 × 4\n",
       "\n",
       "| THERAPIST &lt;int&gt; | A &lt;int&gt; | B &lt;int&gt; | C &lt;int&gt; |\n",
       "|---|---|---|---|\n",
       "| 1 | 2 | 3 | 1 |\n",
       "| 2 | 2 | 3 | 1 |\n",
       "| 3 | 2 | 3 | 1 |\n",
       "| 4 | 1 | 3 | 2 |\n",
       "| 5 | 3 | 2 | 1 |\n",
       "| 6 | 1 | 2 | 3 |\n",
       "| 7 | 2 | 3 | 1 |\n",
       "| 8 | 1 | 3 | 2 |\n",
       "| 9 | 1 | 3 | 2 |\n",
       "\n"
      ],
      "text/plain": [
       "  THERAPIST A B C\n",
       "1 1         2 3 1\n",
       "2 2         2 3 1\n",
       "3 3         2 3 1\n",
       "4 4         1 3 2\n",
       "5 5         3 2 1\n",
       "6 6         1 2 3\n",
       "7 7         2 3 1\n",
       "8 8         1 3 2\n",
       "9 9         1 3 2"
      ]
     },
     "metadata": {},
     "output_type": "display_data"
    }
   ],
   "source": [
    "\n",
    "# Example 13.9.1\n",
    "data <- read.csv(\"data/ch13_all/EXA_C13_S09_01.csv\")\n",
    "attach(data)\n",
    "data"
   ]
  },
  {
   "cell_type": "code",
   "execution_count": 4,
   "metadata": {
    "vscode": {
     "languageId": "r"
    }
   },
   "outputs": [
    {
     "data": {
      "text/plain": [
       "\n",
       "\tFriedman rank sum test\n",
       "\n",
       "data:  data_matrix\n",
       "Friedman chi-squared = 8.2222, df = 2, p-value = 0.01639\n"
      ]
     },
     "metadata": {},
     "output_type": "display_data"
    }
   ],
   "source": [
    "# Reshape the data into a matrix format\n",
    "data_matrix <- as.matrix(data[, -1])\n",
    "\n",
    "# Perform the Friedman test\n",
    "friedman_result <- friedman.test(data_matrix)\n",
    "\n",
    "# Display the Friedman test result\n",
    "friedman_result\n"
   ]
  },
  {
   "cell_type": "code",
   "execution_count": 7,
   "metadata": {
    "vscode": {
     "languageId": "r"
    }
   },
   "outputs": [
    {
     "name": "stderr",
     "output_type": "stream",
     "text": [
      "The following objects are masked from data (pos = 3):\n",
      "\n",
      "    A, B, C\n",
      "\n",
      "\n"
     ]
    },
    {
     "data": {
      "text/html": [
       "<table class=\"dataframe\">\n",
       "<caption>A data.frame: 16 × 5</caption>\n",
       "<thead>\n",
       "\t<tr><th scope=col>ANIMAL</th><th scope=col>A</th><th scope=col>B</th><th scope=col>C</th><th scope=col>D</th></tr>\n",
       "\t<tr><th scope=col>&lt;int&gt;</th><th scope=col>&lt;int&gt;</th><th scope=col>&lt;int&gt;</th><th scope=col>&lt;int&gt;</th><th scope=col>&lt;int&gt;</th></tr>\n",
       "</thead>\n",
       "<tbody>\n",
       "\t<tr><td> 1</td><td>29</td><td> 48</td><td> 75</td><td>100</td></tr>\n",
       "\t<tr><td> 2</td><td>72</td><td> 30</td><td>100</td><td>100</td></tr>\n",
       "\t<tr><td> 3</td><td>70</td><td>100</td><td> 86</td><td> 96</td></tr>\n",
       "\t<tr><td> 4</td><td>54</td><td> 35</td><td> 90</td><td> 99</td></tr>\n",
       "\t<tr><td> 5</td><td> 5</td><td> 43</td><td> 32</td><td> 81</td></tr>\n",
       "\t<tr><td> 6</td><td>17</td><td> 40</td><td> 76</td><td> 81</td></tr>\n",
       "\t<tr><td> 7</td><td>74</td><td>100</td><td>100</td><td>100</td></tr>\n",
       "\t<tr><td> 8</td><td> 6</td><td> 34</td><td> 60</td><td> 81</td></tr>\n",
       "\t<tr><td> 9</td><td>16</td><td> 39</td><td> 73</td><td> 79</td></tr>\n",
       "\t<tr><td>10</td><td>52</td><td> 34</td><td> 88</td><td> 96</td></tr>\n",
       "\t<tr><td>11</td><td> 8</td><td> 42</td><td> 31</td><td> 79</td></tr>\n",
       "\t<tr><td>12</td><td>29</td><td> 47</td><td> 72</td><td> 99</td></tr>\n",
       "\t<tr><td>13</td><td>71</td><td>100</td><td> 97</td><td>100</td></tr>\n",
       "\t<tr><td>14</td><td> 7</td><td> 33</td><td> 58</td><td> 79</td></tr>\n",
       "\t<tr><td>15</td><td>68</td><td> 99</td><td> 84</td><td> 93</td></tr>\n",
       "\t<tr><td>16</td><td>70</td><td> 30</td><td> 99</td><td> 99</td></tr>\n",
       "</tbody>\n",
       "</table>\n"
      ],
      "text/latex": [
       "A data.frame: 16 × 5\n",
       "\\begin{tabular}{lllll}\n",
       " ANIMAL & A & B & C & D\\\\\n",
       " <int> & <int> & <int> & <int> & <int>\\\\\n",
       "\\hline\n",
       "\t  1 & 29 &  48 &  75 & 100\\\\\n",
       "\t  2 & 72 &  30 & 100 & 100\\\\\n",
       "\t  3 & 70 & 100 &  86 &  96\\\\\n",
       "\t  4 & 54 &  35 &  90 &  99\\\\\n",
       "\t  5 &  5 &  43 &  32 &  81\\\\\n",
       "\t  6 & 17 &  40 &  76 &  81\\\\\n",
       "\t  7 & 74 & 100 & 100 & 100\\\\\n",
       "\t  8 &  6 &  34 &  60 &  81\\\\\n",
       "\t  9 & 16 &  39 &  73 &  79\\\\\n",
       "\t 10 & 52 &  34 &  88 &  96\\\\\n",
       "\t 11 &  8 &  42 &  31 &  79\\\\\n",
       "\t 12 & 29 &  47 &  72 &  99\\\\\n",
       "\t 13 & 71 & 100 &  97 & 100\\\\\n",
       "\t 14 &  7 &  33 &  58 &  79\\\\\n",
       "\t 15 & 68 &  99 &  84 &  93\\\\\n",
       "\t 16 & 70 &  30 &  99 &  99\\\\\n",
       "\\end{tabular}\n"
      ],
      "text/markdown": [
       "\n",
       "A data.frame: 16 × 5\n",
       "\n",
       "| ANIMAL &lt;int&gt; | A &lt;int&gt; | B &lt;int&gt; | C &lt;int&gt; | D &lt;int&gt; |\n",
       "|---|---|---|---|---|\n",
       "|  1 | 29 |  48 |  75 | 100 |\n",
       "|  2 | 72 |  30 | 100 | 100 |\n",
       "|  3 | 70 | 100 |  86 |  96 |\n",
       "|  4 | 54 |  35 |  90 |  99 |\n",
       "|  5 |  5 |  43 |  32 |  81 |\n",
       "|  6 | 17 |  40 |  76 |  81 |\n",
       "|  7 | 74 | 100 | 100 | 100 |\n",
       "|  8 |  6 |  34 |  60 |  81 |\n",
       "|  9 | 16 |  39 |  73 |  79 |\n",
       "| 10 | 52 |  34 |  88 |  96 |\n",
       "| 11 |  8 |  42 |  31 |  79 |\n",
       "| 12 | 29 |  47 |  72 |  99 |\n",
       "| 13 | 71 | 100 |  97 | 100 |\n",
       "| 14 |  7 |  33 |  58 |  79 |\n",
       "| 15 | 68 |  99 |  84 |  93 |\n",
       "| 16 | 70 |  30 |  99 |  99 |\n",
       "\n"
      ],
      "text/plain": [
       "   ANIMAL A  B   C   D  \n",
       "1   1     29  48  75 100\n",
       "2   2     72  30 100 100\n",
       "3   3     70 100  86  96\n",
       "4   4     54  35  90  99\n",
       "5   5      5  43  32  81\n",
       "6   6     17  40  76  81\n",
       "7   7     74 100 100 100\n",
       "8   8      6  34  60  81\n",
       "9   9     16  39  73  79\n",
       "10 10     52  34  88  96\n",
       "11 11      8  42  31  79\n",
       "12 12     29  47  72  99\n",
       "13 13     71 100  97 100\n",
       "14 14      7  33  58  79\n",
       "15 15     68  99  84  93\n",
       "16 16     70  30  99  99"
      ]
     },
     "metadata": {},
     "output_type": "display_data"
    }
   ],
   "source": [
    "# Example 13.9.2\n",
    "data <- read.csv(\"data/ch13_all/EXA_C13_S09_02.csv\")\n",
    "attach(data)\n",
    "data"
   ]
  },
  {
   "cell_type": "code",
   "execution_count": 8,
   "metadata": {
    "vscode": {
     "languageId": "r"
    }
   },
   "outputs": [
    {
     "data": {
      "text/plain": [
       "\n",
       "\tFriedman rank sum test\n",
       "\n",
       "data:  data_matrix\n",
       "Friedman chi-squared = 31.706, df = 3, p-value = 6.036e-07\n"
      ]
     },
     "metadata": {},
     "output_type": "display_data"
    }
   ],
   "source": [
    "# Reshape the data into a matrix format\n",
    "data_matrix <- as.matrix(data[, -1])\n",
    "\n",
    "# Perform the Friedman test\n",
    "friedman_result <- friedman.test(data_matrix)\n",
    "\n",
    "# Display the Friedman test result\n",
    "friedman_result\n"
   ]
  },
  {
   "attachments": {},
   "cell_type": "markdown",
   "metadata": {},
   "source": [
    "#### 13.9.1\n",
    "\n",
    "The following table shows the scores made by nine randomly selected student nurses on final\n",
    "examinations in three subject areas.\n",
    "\n",
    "Test the null hypothesis that student nurses constituting the population from which the above sample\n",
    "was drawn perform equally well in all three subject areas against the alternative hypothesis that they\n",
    "perform better in, at least, one area. Let $\\alpha$ = .05."
   ]
  },
  {
   "cell_type": "code",
   "execution_count": 16,
   "metadata": {
    "vscode": {
     "languageId": "r"
    }
   },
   "outputs": [
    {
     "data": {
      "text/html": [
       "<table class=\"dataframe\">\n",
       "<caption>A data.frame: 9 × 4</caption>\n",
       "<thead>\n",
       "\t<tr><th scope=col>SUBJ</th><th scope=col>FUND</th><th scope=col>PHYS</th><th scope=col>ANAT</th></tr>\n",
       "\t<tr><th scope=col>&lt;int&gt;</th><th scope=col>&lt;int&gt;</th><th scope=col>&lt;int&gt;</th><th scope=col>&lt;int&gt;</th></tr>\n",
       "</thead>\n",
       "<tbody>\n",
       "\t<tr><td>1</td><td>98</td><td>95</td><td>77</td></tr>\n",
       "\t<tr><td>2</td><td>95</td><td>71</td><td>79</td></tr>\n",
       "\t<tr><td>3</td><td>76</td><td>80</td><td>91</td></tr>\n",
       "\t<tr><td>4</td><td>95</td><td>81</td><td>84</td></tr>\n",
       "\t<tr><td>5</td><td>83</td><td>77</td><td>80</td></tr>\n",
       "\t<tr><td>6</td><td>99</td><td>70</td><td>93</td></tr>\n",
       "\t<tr><td>7</td><td>82</td><td>80</td><td>87</td></tr>\n",
       "\t<tr><td>8</td><td>75</td><td>72</td><td>81</td></tr>\n",
       "\t<tr><td>9</td><td>88</td><td>81</td><td>83</td></tr>\n",
       "</tbody>\n",
       "</table>\n"
      ],
      "text/latex": [
       "A data.frame: 9 × 4\n",
       "\\begin{tabular}{llll}\n",
       " SUBJ & FUND & PHYS & ANAT\\\\\n",
       " <int> & <int> & <int> & <int>\\\\\n",
       "\\hline\n",
       "\t 1 & 98 & 95 & 77\\\\\n",
       "\t 2 & 95 & 71 & 79\\\\\n",
       "\t 3 & 76 & 80 & 91\\\\\n",
       "\t 4 & 95 & 81 & 84\\\\\n",
       "\t 5 & 83 & 77 & 80\\\\\n",
       "\t 6 & 99 & 70 & 93\\\\\n",
       "\t 7 & 82 & 80 & 87\\\\\n",
       "\t 8 & 75 & 72 & 81\\\\\n",
       "\t 9 & 88 & 81 & 83\\\\\n",
       "\\end{tabular}\n"
      ],
      "text/markdown": [
       "\n",
       "A data.frame: 9 × 4\n",
       "\n",
       "| SUBJ &lt;int&gt; | FUND &lt;int&gt; | PHYS &lt;int&gt; | ANAT &lt;int&gt; |\n",
       "|---|---|---|---|\n",
       "| 1 | 98 | 95 | 77 |\n",
       "| 2 | 95 | 71 | 79 |\n",
       "| 3 | 76 | 80 | 91 |\n",
       "| 4 | 95 | 81 | 84 |\n",
       "| 5 | 83 | 77 | 80 |\n",
       "| 6 | 99 | 70 | 93 |\n",
       "| 7 | 82 | 80 | 87 |\n",
       "| 8 | 75 | 72 | 81 |\n",
       "| 9 | 88 | 81 | 83 |\n",
       "\n"
      ],
      "text/plain": [
       "  SUBJ FUND PHYS ANAT\n",
       "1 1    98   95   77  \n",
       "2 2    95   71   79  \n",
       "3 3    76   80   91  \n",
       "4 4    95   81   84  \n",
       "5 5    83   77   80  \n",
       "6 6    99   70   93  \n",
       "7 7    82   80   87  \n",
       "8 8    75   72   81  \n",
       "9 9    88   81   83  "
      ]
     },
     "metadata": {},
     "output_type": "display_data"
    }
   ],
   "source": [
    "data <- read.csv(\"data/ch13_all/EXR_C13_S09_01.csv\")\n",
    "data"
   ]
  },
  {
   "cell_type": "code",
   "execution_count": 17,
   "metadata": {
    "vscode": {
     "languageId": "r"
    }
   },
   "outputs": [
    {
     "data": {
      "text/plain": [
       "\n",
       "\tFriedman rank sum test\n",
       "\n",
       "data:  data_matrix\n",
       "Friedman chi-squared = 8.6667, df = 2, p-value = 0.01312\n"
      ]
     },
     "metadata": {},
     "output_type": "display_data"
    }
   ],
   "source": [
    "# Reshape the data into a matrix format\n",
    "data_matrix <- as.matrix(data[, -1])\n",
    "\n",
    "# Perform the Friedman test\n",
    "friedman.test(data_matrix)\n"
   ]
  },
  {
   "attachments": {},
   "cell_type": "markdown",
   "metadata": {},
   "source": [
    "Since the p-value is less than the significance level of 0.05 (denoted as α), we reject the null hypothesis. This means that there is evidence to suggest that student nurses, drawn from the population represented by the given sample, do not perform equally well in all three subject areas. Instead, they perform better in, at least, one area.\n",
    "\n",
    "In conclusion, based on the analysis, we can reject the null hypothesis and conclude that there is a significant difference in the performance of student nurses across the three subject areas. "
   ]
  },
  {
   "attachments": {},
   "cell_type": "markdown",
   "metadata": {},
   "source": [
    "#### 13.9.2\n",
    "\n",
    "Fifteen randomly selected physical therapy students were given the following instructions: “Assume\n",
    "that you will marry a person with one of the following handicaps (the handicaps were listed and\n",
    "designated by the letters A to J). Rank these handicaps from 1 to 10 according to your first, second,\n",
    "third (and so on) choice of a handicap for your marriage partner.” The results are shown in the\n",
    "following table.\n",
    "\n",
    "Test the null hypothesis of no preference for handicaps against the alternative that some handicaps are\n",
    "preferred over others. Let $\\alpha$ = .05."
   ]
  },
  {
   "cell_type": "code",
   "execution_count": 18,
   "metadata": {
    "vscode": {
     "languageId": "r"
    }
   },
   "outputs": [
    {
     "data": {
      "text/html": [
       "<table class=\"dataframe\">\n",
       "<caption>A data.frame: 15 × 11</caption>\n",
       "<thead>\n",
       "\t<tr><th scope=col>SUBJ</th><th scope=col>A</th><th scope=col>B</th><th scope=col>C</th><th scope=col>D</th><th scope=col>E</th><th scope=col>F</th><th scope=col>G</th><th scope=col>H</th><th scope=col>I</th><th scope=col>J</th></tr>\n",
       "\t<tr><th scope=col>&lt;int&gt;</th><th scope=col>&lt;int&gt;</th><th scope=col>&lt;int&gt;</th><th scope=col>&lt;int&gt;</th><th scope=col>&lt;int&gt;</th><th scope=col>&lt;int&gt;</th><th scope=col>&lt;int&gt;</th><th scope=col>&lt;int&gt;</th><th scope=col>&lt;int&gt;</th><th scope=col>&lt;int&gt;</th><th scope=col>&lt;int&gt;</th></tr>\n",
       "</thead>\n",
       "<tbody>\n",
       "\t<tr><td> 1</td><td>1</td><td>3</td><td>5</td><td>9</td><td> 8</td><td>2</td><td>4</td><td>6</td><td>7</td><td>10</td></tr>\n",
       "\t<tr><td> 2</td><td>1</td><td>4</td><td>5</td><td>7</td><td> 8</td><td>2</td><td>3</td><td>6</td><td>9</td><td>10</td></tr>\n",
       "\t<tr><td> 3</td><td>2</td><td>3</td><td>7</td><td>8</td><td> 9</td><td>1</td><td>4</td><td>6</td><td>5</td><td>10</td></tr>\n",
       "\t<tr><td> 4</td><td>1</td><td>4</td><td>7</td><td>8</td><td> 9</td><td>2</td><td>3</td><td>6</td><td>5</td><td>10</td></tr>\n",
       "\t<tr><td> 5</td><td>1</td><td>4</td><td>7</td><td>8</td><td>10</td><td>2</td><td>3</td><td>6</td><td>5</td><td> 9</td></tr>\n",
       "\t<tr><td> 6</td><td>2</td><td>3</td><td>7</td><td>9</td><td> 8</td><td>1</td><td>4</td><td>5</td><td>6</td><td>10</td></tr>\n",
       "\t<tr><td> 7</td><td>2</td><td>4</td><td>6</td><td>9</td><td> 8</td><td>1</td><td>3</td><td>7</td><td>5</td><td>10</td></tr>\n",
       "\t<tr><td> 8</td><td>1</td><td>5</td><td>7</td><td>9</td><td>10</td><td>2</td><td>3</td><td>4</td><td>6</td><td> 8</td></tr>\n",
       "\t<tr><td> 9</td><td>1</td><td>4</td><td>5</td><td>7</td><td> 8</td><td>2</td><td>3</td><td>6</td><td>9</td><td>10</td></tr>\n",
       "\t<tr><td>10</td><td>2</td><td>3</td><td>6</td><td>8</td><td> 9</td><td>1</td><td>4</td><td>7</td><td>5</td><td>10</td></tr>\n",
       "\t<tr><td>11</td><td>2</td><td>4</td><td>5</td><td>8</td><td> 9</td><td>1</td><td>3</td><td>7</td><td>6</td><td>10</td></tr>\n",
       "\t<tr><td>12</td><td>2</td><td>3</td><td>6</td><td>8</td><td>10</td><td>1</td><td>4</td><td>5</td><td>7</td><td> 9</td></tr>\n",
       "\t<tr><td>13</td><td>3</td><td>2</td><td>6</td><td>9</td><td> 8</td><td>1</td><td>4</td><td>7</td><td>5</td><td>10</td></tr>\n",
       "\t<tr><td>14</td><td>2</td><td>5</td><td>7</td><td>8</td><td> 9</td><td>1</td><td>3</td><td>4</td><td>6</td><td>10</td></tr>\n",
       "\t<tr><td>15</td><td>2</td><td>3</td><td>6</td><td>7</td><td> 8</td><td>1</td><td>5</td><td>4</td><td>9</td><td>10</td></tr>\n",
       "</tbody>\n",
       "</table>\n"
      ],
      "text/latex": [
       "A data.frame: 15 × 11\n",
       "\\begin{tabular}{lllllllllll}\n",
       " SUBJ & A & B & C & D & E & F & G & H & I & J\\\\\n",
       " <int> & <int> & <int> & <int> & <int> & <int> & <int> & <int> & <int> & <int> & <int>\\\\\n",
       "\\hline\n",
       "\t  1 & 1 & 3 & 5 & 9 &  8 & 2 & 4 & 6 & 7 & 10\\\\\n",
       "\t  2 & 1 & 4 & 5 & 7 &  8 & 2 & 3 & 6 & 9 & 10\\\\\n",
       "\t  3 & 2 & 3 & 7 & 8 &  9 & 1 & 4 & 6 & 5 & 10\\\\\n",
       "\t  4 & 1 & 4 & 7 & 8 &  9 & 2 & 3 & 6 & 5 & 10\\\\\n",
       "\t  5 & 1 & 4 & 7 & 8 & 10 & 2 & 3 & 6 & 5 &  9\\\\\n",
       "\t  6 & 2 & 3 & 7 & 9 &  8 & 1 & 4 & 5 & 6 & 10\\\\\n",
       "\t  7 & 2 & 4 & 6 & 9 &  8 & 1 & 3 & 7 & 5 & 10\\\\\n",
       "\t  8 & 1 & 5 & 7 & 9 & 10 & 2 & 3 & 4 & 6 &  8\\\\\n",
       "\t  9 & 1 & 4 & 5 & 7 &  8 & 2 & 3 & 6 & 9 & 10\\\\\n",
       "\t 10 & 2 & 3 & 6 & 8 &  9 & 1 & 4 & 7 & 5 & 10\\\\\n",
       "\t 11 & 2 & 4 & 5 & 8 &  9 & 1 & 3 & 7 & 6 & 10\\\\\n",
       "\t 12 & 2 & 3 & 6 & 8 & 10 & 1 & 4 & 5 & 7 &  9\\\\\n",
       "\t 13 & 3 & 2 & 6 & 9 &  8 & 1 & 4 & 7 & 5 & 10\\\\\n",
       "\t 14 & 2 & 5 & 7 & 8 &  9 & 1 & 3 & 4 & 6 & 10\\\\\n",
       "\t 15 & 2 & 3 & 6 & 7 &  8 & 1 & 5 & 4 & 9 & 10\\\\\n",
       "\\end{tabular}\n"
      ],
      "text/markdown": [
       "\n",
       "A data.frame: 15 × 11\n",
       "\n",
       "| SUBJ &lt;int&gt; | A &lt;int&gt; | B &lt;int&gt; | C &lt;int&gt; | D &lt;int&gt; | E &lt;int&gt; | F &lt;int&gt; | G &lt;int&gt; | H &lt;int&gt; | I &lt;int&gt; | J &lt;int&gt; |\n",
       "|---|---|---|---|---|---|---|---|---|---|---|\n",
       "|  1 | 1 | 3 | 5 | 9 |  8 | 2 | 4 | 6 | 7 | 10 |\n",
       "|  2 | 1 | 4 | 5 | 7 |  8 | 2 | 3 | 6 | 9 | 10 |\n",
       "|  3 | 2 | 3 | 7 | 8 |  9 | 1 | 4 | 6 | 5 | 10 |\n",
       "|  4 | 1 | 4 | 7 | 8 |  9 | 2 | 3 | 6 | 5 | 10 |\n",
       "|  5 | 1 | 4 | 7 | 8 | 10 | 2 | 3 | 6 | 5 |  9 |\n",
       "|  6 | 2 | 3 | 7 | 9 |  8 | 1 | 4 | 5 | 6 | 10 |\n",
       "|  7 | 2 | 4 | 6 | 9 |  8 | 1 | 3 | 7 | 5 | 10 |\n",
       "|  8 | 1 | 5 | 7 | 9 | 10 | 2 | 3 | 4 | 6 |  8 |\n",
       "|  9 | 1 | 4 | 5 | 7 |  8 | 2 | 3 | 6 | 9 | 10 |\n",
       "| 10 | 2 | 3 | 6 | 8 |  9 | 1 | 4 | 7 | 5 | 10 |\n",
       "| 11 | 2 | 4 | 5 | 8 |  9 | 1 | 3 | 7 | 6 | 10 |\n",
       "| 12 | 2 | 3 | 6 | 8 | 10 | 1 | 4 | 5 | 7 |  9 |\n",
       "| 13 | 3 | 2 | 6 | 9 |  8 | 1 | 4 | 7 | 5 | 10 |\n",
       "| 14 | 2 | 5 | 7 | 8 |  9 | 1 | 3 | 4 | 6 | 10 |\n",
       "| 15 | 2 | 3 | 6 | 7 |  8 | 1 | 5 | 4 | 9 | 10 |\n",
       "\n"
      ],
      "text/plain": [
       "   SUBJ A B C D E  F G H I J \n",
       "1   1   1 3 5 9  8 2 4 6 7 10\n",
       "2   2   1 4 5 7  8 2 3 6 9 10\n",
       "3   3   2 3 7 8  9 1 4 6 5 10\n",
       "4   4   1 4 7 8  9 2 3 6 5 10\n",
       "5   5   1 4 7 8 10 2 3 6 5  9\n",
       "6   6   2 3 7 9  8 1 4 5 6 10\n",
       "7   7   2 4 6 9  8 1 3 7 5 10\n",
       "8   8   1 5 7 9 10 2 3 4 6  8\n",
       "9   9   1 4 5 7  8 2 3 6 9 10\n",
       "10 10   2 3 6 8  9 1 4 7 5 10\n",
       "11 11   2 4 5 8  9 1 3 7 6 10\n",
       "12 12   2 3 6 8 10 1 4 5 7  9\n",
       "13 13   3 2 6 9  8 1 4 7 5 10\n",
       "14 14   2 5 7 8  9 1 3 4 6 10\n",
       "15 15   2 3 6 7  8 1 5 4 9 10"
      ]
     },
     "metadata": {},
     "output_type": "display_data"
    }
   ],
   "source": [
    "data <- read.csv(\"data/ch13_all/EXR_C13_S09_02.csv\")\n",
    "data"
   ]
  },
  {
   "cell_type": "code",
   "execution_count": 19,
   "metadata": {
    "vscode": {
     "languageId": "r"
    }
   },
   "outputs": [
    {
     "data": {
      "text/plain": [
       "\n",
       "\tFriedman rank sum test\n",
       "\n",
       "data:  data_matrix\n",
       "Friedman chi-squared = 123.45, df = 9, p-value < 2.2e-16\n"
      ]
     },
     "metadata": {},
     "output_type": "display_data"
    }
   ],
   "source": [
    "# Reshape the data into a matrix format\n",
    "data_matrix <- as.matrix(data[, -1])\n",
    "\n",
    "# Perform the Friedman test\n",
    "friedman.test(data_matrix)"
   ]
  },
  {
   "attachments": {},
   "cell_type": "markdown",
   "metadata": {},
   "source": [
    "Since the p-value is significantly smaller than the significance level of 0.05 (denoted as α), we reject the null hypothesis. This implies that there is strong evidence to suggest that the physical therapy students do have a preference for certain handicaps over others when considering a marriage partner.\n",
    "\n",
    "In conclusion, based on the analysis, we can reject the null hypothesis and conclude that there is a significant preference for certain handicaps among the physical therapy students. "
   ]
  },
  {
   "attachments": {},
   "cell_type": "markdown",
   "metadata": {},
   "source": [
    "#### 13.9.3\n",
    "\n",
    "Ten subjects with exercise-induced asthma participated in an experiment to compare the\n",
    "protective effect of a drug administered in four dose levels. Saline was used as a control. The\n",
    "variable of interest was change in FEV1 after administration of the drug or saline. The results\n",
    "were as follows:\n",
    "\n",
    "Can one conclude on the basis of these data that different dose levels have different effects?\n",
    "Let $\\alpha$ = .05 and find the p value."
   ]
  },
  {
   "cell_type": "code",
   "execution_count": 20,
   "metadata": {
    "vscode": {
     "languageId": "r"
    }
   },
   "outputs": [
    {
     "data": {
      "text/html": [
       "<table class=\"dataframe\">\n",
       "<caption>A data.frame: 10 × 6</caption>\n",
       "<thead>\n",
       "\t<tr><th scope=col>SUBJ</th><th scope=col>SALINE</th><th scope=col>T2</th><th scope=col>T10</th><th scope=col>T20</th><th scope=col>T40</th></tr>\n",
       "\t<tr><th scope=col>&lt;int&gt;</th><th scope=col>&lt;dbl&gt;</th><th scope=col>&lt;dbl&gt;</th><th scope=col>&lt;dbl&gt;</th><th scope=col>&lt;dbl&gt;</th><th scope=col>&lt;dbl&gt;</th></tr>\n",
       "</thead>\n",
       "<tbody>\n",
       "\t<tr><td> 1</td><td>-0.68</td><td>-0.32</td><td>-0.14</td><td>-0.21</td><td>-0.32</td></tr>\n",
       "\t<tr><td> 2</td><td>-1.55</td><td>-0.56</td><td>-0.31</td><td>-0.21</td><td>-0.16</td></tr>\n",
       "\t<tr><td> 3</td><td>-1.41</td><td>-0.28</td><td>-0.11</td><td>-0.08</td><td>-0.83</td></tr>\n",
       "\t<tr><td> 4</td><td>-0.76</td><td>-0.56</td><td>-0.24</td><td>-0.41</td><td>-0.08</td></tr>\n",
       "\t<tr><td> 5</td><td>-0.48</td><td>-0.25</td><td>-0.17</td><td>-0.04</td><td>-0.18</td></tr>\n",
       "\t<tr><td> 6</td><td>-3.12</td><td>-1.99</td><td>-1.22</td><td>-0.55</td><td>-0.75</td></tr>\n",
       "\t<tr><td> 7</td><td>-1.16</td><td>-0.88</td><td>-0.87</td><td>-0.54</td><td>-0.84</td></tr>\n",
       "\t<tr><td> 8</td><td>-1.15</td><td>-0.31</td><td>-0.18</td><td>-0.07</td><td>-0.09</td></tr>\n",
       "\t<tr><td> 9</td><td>-0.78</td><td>-0.24</td><td>-0.39</td><td>-0.11</td><td>-0.51</td></tr>\n",
       "\t<tr><td>10</td><td>-2.12</td><td>-0.35</td><td>-0.28</td><td> 0.11</td><td>-0.41</td></tr>\n",
       "</tbody>\n",
       "</table>\n"
      ],
      "text/latex": [
       "A data.frame: 10 × 6\n",
       "\\begin{tabular}{llllll}\n",
       " SUBJ & SALINE & T2 & T10 & T20 & T40\\\\\n",
       " <int> & <dbl> & <dbl> & <dbl> & <dbl> & <dbl>\\\\\n",
       "\\hline\n",
       "\t  1 & -0.68 & -0.32 & -0.14 & -0.21 & -0.32\\\\\n",
       "\t  2 & -1.55 & -0.56 & -0.31 & -0.21 & -0.16\\\\\n",
       "\t  3 & -1.41 & -0.28 & -0.11 & -0.08 & -0.83\\\\\n",
       "\t  4 & -0.76 & -0.56 & -0.24 & -0.41 & -0.08\\\\\n",
       "\t  5 & -0.48 & -0.25 & -0.17 & -0.04 & -0.18\\\\\n",
       "\t  6 & -3.12 & -1.99 & -1.22 & -0.55 & -0.75\\\\\n",
       "\t  7 & -1.16 & -0.88 & -0.87 & -0.54 & -0.84\\\\\n",
       "\t  8 & -1.15 & -0.31 & -0.18 & -0.07 & -0.09\\\\\n",
       "\t  9 & -0.78 & -0.24 & -0.39 & -0.11 & -0.51\\\\\n",
       "\t 10 & -2.12 & -0.35 & -0.28 &  0.11 & -0.41\\\\\n",
       "\\end{tabular}\n"
      ],
      "text/markdown": [
       "\n",
       "A data.frame: 10 × 6\n",
       "\n",
       "| SUBJ &lt;int&gt; | SALINE &lt;dbl&gt; | T2 &lt;dbl&gt; | T10 &lt;dbl&gt; | T20 &lt;dbl&gt; | T40 &lt;dbl&gt; |\n",
       "|---|---|---|---|---|---|\n",
       "|  1 | -0.68 | -0.32 | -0.14 | -0.21 | -0.32 |\n",
       "|  2 | -1.55 | -0.56 | -0.31 | -0.21 | -0.16 |\n",
       "|  3 | -1.41 | -0.28 | -0.11 | -0.08 | -0.83 |\n",
       "|  4 | -0.76 | -0.56 | -0.24 | -0.41 | -0.08 |\n",
       "|  5 | -0.48 | -0.25 | -0.17 | -0.04 | -0.18 |\n",
       "|  6 | -3.12 | -1.99 | -1.22 | -0.55 | -0.75 |\n",
       "|  7 | -1.16 | -0.88 | -0.87 | -0.54 | -0.84 |\n",
       "|  8 | -1.15 | -0.31 | -0.18 | -0.07 | -0.09 |\n",
       "|  9 | -0.78 | -0.24 | -0.39 | -0.11 | -0.51 |\n",
       "| 10 | -2.12 | -0.35 | -0.28 |  0.11 | -0.41 |\n",
       "\n"
      ],
      "text/plain": [
       "   SUBJ SALINE T2    T10   T20   T40  \n",
       "1   1   -0.68  -0.32 -0.14 -0.21 -0.32\n",
       "2   2   -1.55  -0.56 -0.31 -0.21 -0.16\n",
       "3   3   -1.41  -0.28 -0.11 -0.08 -0.83\n",
       "4   4   -0.76  -0.56 -0.24 -0.41 -0.08\n",
       "5   5   -0.48  -0.25 -0.17 -0.04 -0.18\n",
       "6   6   -3.12  -1.99 -1.22 -0.55 -0.75\n",
       "7   7   -1.16  -0.88 -0.87 -0.54 -0.84\n",
       "8   8   -1.15  -0.31 -0.18 -0.07 -0.09\n",
       "9   9   -0.78  -0.24 -0.39 -0.11 -0.51\n",
       "10 10   -2.12  -0.35 -0.28  0.11 -0.41"
      ]
     },
     "metadata": {},
     "output_type": "display_data"
    }
   ],
   "source": [
    "data <- read.csv(\"data/ch13_all/EXR_C13_S09_03.csv\")\n",
    "data"
   ]
  },
  {
   "cell_type": "code",
   "execution_count": 21,
   "metadata": {
    "vscode": {
     "languageId": "r"
    }
   },
   "outputs": [
    {
     "data": {
      "text/plain": [
       "\n",
       "\tFriedman rank sum test\n",
       "\n",
       "data:  data_matrix\n",
       "Friedman chi-squared = 29.528, df = 4, p-value = 6.107e-06\n"
      ]
     },
     "metadata": {},
     "output_type": "display_data"
    }
   ],
   "source": [
    "# Reshape the data into a matrix format\n",
    "data_matrix <- as.matrix(data[, -1])\n",
    "\n",
    "# Perform the Friedman test\n",
    "friedman.test(data_matrix)\n"
   ]
  },
  {
   "attachments": {},
   "cell_type": "markdown",
   "metadata": {},
   "source": [
    "Since the p-value is significantly smaller than the significance level of 0.05 (denoted as α), we reject the null hypothesis. This indicates that there is strong evidence to suggest that the different dose levels have different effects on the change in FEV1 among subjects with exercise-induced asthma.\n",
    "\n",
    "In conclusion, based on the analysis, we can reject the null hypothesis and conclude that there are significant differences in the effects of the different dose levels on the change in FEV1. This implies that the drug administered at different dose levels does have varying effects. "
   ]
  }
 ],
 "metadata": {
  "kernelspec": {
   "display_name": "R",
   "language": "R",
   "name": "ir"
  },
  "language_info": {
   "codemirror_mode": "r",
   "file_extension": ".r",
   "mimetype": "text/x-r-source",
   "name": "R",
   "pygments_lexer": "r",
   "version": "4.2.3"
  },
  "orig_nbformat": 4
 },
 "nbformat": 4,
 "nbformat_minor": 2
}
