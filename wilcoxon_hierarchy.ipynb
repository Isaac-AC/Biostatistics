{
 "cells": [
  {
   "attachments": {},
   "cell_type": "markdown",
   "metadata": {},
   "source": [
    "# THE WILCOXON SIGNED-RANK TEST FOR LOCATION\n",
    "\n",
    "The Wilcoxon signed-rank test is a non-parametric test used to compare the medians of two paired samples. It is a powerful and versatile test that can be used to detect even small differences between the medians of two samples."
   ]
  },
  {
   "attachments": {},
   "cell_type": "markdown",
   "metadata": {},
   "source": [
    "#### 13.4.1\n",
    "Sixteen laboratory animals were fed a special diet from birth through age 12 weeks. Their weight\n",
    "gains (in grams) were as follows:\n",
    "\n",
    "Can we conclude from these data that the diet results in a mean weight gain of less than 70 grams? Let\n",
    "a $\\alpha$ = .05, and find the p value."
   ]
  },
  {
   "cell_type": "code",
   "execution_count": 1,
   "metadata": {
    "vscode": {
     "languageId": "r"
    }
   },
   "outputs": [
    {
     "name": "stderr",
     "output_type": "stream",
     "text": [
      "Warning message in wilcox.test.default(data, mu = 70, alternative = \"less\", conf.int = TRUE, :\n",
      "“cannot compute exact p-value with ties”\n",
      "Warning message in wilcox.test.default(data, mu = 70, alternative = \"less\", conf.int = TRUE, :\n",
      "“cannot compute exact confidence interval with ties”\n"
     ]
    },
    {
     "data": {
      "text/plain": [
       "\n",
       "\tWilcoxon signed rank test with continuity correction\n",
       "\n",
       "data:  data\n",
       "V = 48.5, p-value = 0.1622\n",
       "alternative hypothesis: true location is less than 70\n",
       "95 percent confidence interval:\n",
       "     -Inf 70.99999\n",
       "sample estimates:\n",
       "(pseudo)median \n",
       "          68.5 \n"
      ]
     },
     "metadata": {},
     "output_type": "display_data"
    }
   ],
   "source": [
    "library(\"MASS\")\n",
    "data <- c(63,68,79,65,64,63,65,64,76,74,66,66,67,73,69,76)\n",
    "\n",
    "wilcox.test(data, mu = 70, alternative = \"less\", conf.int = TRUE, conf.level = 0.95)"
   ]
  },
  {
   "attachments": {},
   "cell_type": "markdown",
   "metadata": {},
   "source": [
    "Based on the p-value of 0.1622, which is greater than the significance level of 0.05, we fail to reject the null hypothesis. This means that there is not enough evidence to conclude that the diet results in a mean weight gain of less than 70 grams based on the given data."
   ]
  },
  {
   "attachments": {},
   "cell_type": "markdown",
   "metadata": {},
   "source": [
    "#### 13.4.2\n",
    "Amateur and professional singers were the subjects of a study by Grape et al. (A-2). The researchers\n",
    "investigated the possible beneficial effects of singing on well-being during a single singing lesson.\n",
    "One of the variables of interest was the change in cortisol as a result of the signing lesson. Use the data\n",
    "in the following table to determine if, in general, cortisol (nmol/L) increases after a singing lesson.\n",
    "Let a $\\alpha$ = .05. Find the p value."
   ]
  },
  {
   "cell_type": "code",
   "execution_count": 2,
   "metadata": {
    "vscode": {
     "languageId": "r"
    }
   },
   "outputs": [
    {
     "name": "stderr",
     "output_type": "stream",
     "text": [
      "Warning message in wilcox.test.default(before, after, paired = TRUE, alternative = \"less\", :\n",
      "“cannot compute exact p-value with ties”\n",
      "Warning message in wilcox.test.default(before, after, paired = TRUE, alternative = \"less\", :\n",
      "“cannot compute exact confidence interval with ties”\n"
     ]
    },
    {
     "data": {
      "text/plain": [
       "\n",
       "\tWilcoxon signed rank test with continuity correction\n",
       "\n",
       "data:  before and after\n",
       "V = 9.5, p-value = 0.131\n",
       "alternative hypothesis: true location shift is less than 0\n",
       "95 percent confidence interval:\n",
       "     -Inf 26.49996\n",
       "sample estimates:\n",
       "(pseudo)median \n",
       "     -24.46179 \n"
      ]
     },
     "metadata": {},
     "output_type": "display_data"
    }
   ],
   "source": [
    "data <- data.frame(\n",
    "    before <- c(214,362,202,158,403,219,307,331),\n",
    "    after <- c(232,276,224,412,562,203,340,313)\n",
    ")\n",
    "\n",
    "attach(data)\n",
    "wilcox.test(before, after, paired = TRUE, alternative = \"less\", conf.int = TRUE, conf.level = 0.95)"
   ]
  },
  {
   "attachments": {},
   "cell_type": "markdown",
   "metadata": {},
   "source": [
    "Based on the p-value of 0.131, which is greater than the significance level of 0.05, we fail to reject the null hypothesis. This means that there is not enough evidence to conclude that cortisol generally increases after a singing lesson based on the given data."
   ]
  },
  {
   "attachments": {},
   "cell_type": "markdown",
   "metadata": {},
   "source": [
    "#### 13.4.3\n",
    "In a study by Zuckerman and Heneghan (A-3), hemodynamic stresses were measured on subjects\n",
    "undergoing laparoscopic cholecystectomy. An outcome variable of interest was the ventricular end\n",
    "diastolic volume (LVEDV) measured in milliliters. A portion of the data appear in the following table.\n",
    "Baseline refers to a measurement taken 5 minutes after induction of anesthesia, and the term “5\n",
    "minutes” refers to a measurement taken 5 minutes after baseline.\n",
    "May we conclude, on the basis of these data, that among subjects undergoing laparoscopic\n",
    "cholecystectomy, the average LVEDV levels change? Let a $\\alpha$ = .01"
   ]
  },
  {
   "cell_type": "code",
   "execution_count": 3,
   "metadata": {
    "vscode": {
     "languageId": "r"
    }
   },
   "outputs": [
    {
     "name": "stderr",
     "output_type": "stream",
     "text": [
      "Warning message in wilcox.test.default(before, after, paired = TRUE, alternative = \"two.sided\", :\n",
      "“cannot compute exact p-value with ties”\n",
      "Warning message in wilcox.test.default(before, after, paired = TRUE, alternative = \"two.sided\", :\n",
      "“cannot compute exact confidence interval with ties”\n"
     ]
    },
    {
     "data": {
      "text/plain": [
       "\n",
       "\tWilcoxon signed rank test with continuity correction\n",
       "\n",
       "data:  before and after\n",
       "V = 11.5, p-value = 0.1137\n",
       "alternative hypothesis: true location shift is not equal to 0\n",
       "99 percent confidence interval:\n",
       " -28.14995  15.99998\n",
       "sample estimates:\n",
       "(pseudo)median \n",
       "     -8.800001 \n"
      ]
     },
     "metadata": {},
     "output_type": "display_data"
    }
   ],
   "source": [
    "data <- data.frame(\n",
    "    before <- c(51.7,79.0,78.7,80.3,72.0,85.0,69.7,71.3,55.7,56.3),\n",
    "    after <- c(49.3,72.0,87.3,88.3,103.3,94.0,94.7,46.3,71.7,72.3)\n",
    ")\n",
    "\n",
    "attach(data)\n",
    "wilcox.test(before, after, paired = TRUE, alternative = \"two.sided\", conf.int = TRUE, conf.level = 0.99)"
   ]
  },
  {
   "attachments": {},
   "cell_type": "markdown",
   "metadata": {},
   "source": [
    "Based on the p-value of 0.1137, which is greater than the significance level of 0.01, we fail to reject the null hypothesis. This means that there is not enough evidence to conclude that there is a significant change in average LVEDV levels among subjects undergoing laparoscopic cholecystectomy based on the given data."
   ]
  }
 ],
 "metadata": {
  "kernelspec": {
   "display_name": "R",
   "language": "R",
   "name": "ir"
  },
  "language_info": {
   "codemirror_mode": "r",
   "file_extension": ".r",
   "mimetype": "text/x-r-source",
   "name": "R",
   "pygments_lexer": "r",
   "version": "4.2.3"
  },
  "orig_nbformat": 4
 },
 "nbformat": 4,
 "nbformat_minor": 2
}
