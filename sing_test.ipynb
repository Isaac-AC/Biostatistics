{
 "cells": [
  {
   "attachments": {},
   "cell_type": "markdown",
   "metadata": {},
   "source": [
    "# The Sing Test "
   ]
  },
  {
   "attachments": {},
   "cell_type": "markdown",
   "metadata": {},
   "source": [
    "The Sign Test in statistics is a non-parametric test used to assess if the median of a distribution significantly differs from a given value, without making assumptions about the distribution shape."
   ]
  },
  {
   "attachments": {},
   "cell_type": "markdown",
   "metadata": {},
   "source": [
    "#### 13.3.1\n",
    "A random sample of 15 student nurses was given a test to measure their level of authoritarianism with\n",
    "the following results:\n",
    "\n",
    "Test at the .05 level of significance, the null hypothesis that \n",
    "the median score for the sampled population is 100. Determine \n",
    "the p value."
   ]
  },
  {
   "cell_type": "code",
   "execution_count": 1,
   "metadata": {
    "vscode": {
     "languageId": "r"
    }
   },
   "outputs": [
    {
     "name": "stderr",
     "output_type": "stream",
     "text": [
      "Loading required package: lattice\n",
      "\n",
      "\n",
      "Attaching package: ‘BSDA’\n",
      "\n",
      "\n",
      "The following object is masked from ‘package:datasets’:\n",
      "\n",
      "    Orange\n",
      "\n",
      "\n"
     ]
    },
    {
     "data": {
      "text/plain": [
       "\n",
       "\tOne-sample Sign-Test\n",
       "\n",
       "data:  Authoritarianism\n",
       "s = 6, p-value = 0.6072\n",
       "alternative hypothesis: true median is not equal to 100\n",
       "95 percent confidence interval:\n",
       "  82.53451 110.00000\n",
       "sample estimates:\n",
       "median of x \n",
       "         95 \n",
       "\n",
       "Achieved and Interpolated Confidence Intervals: \n",
       "\n",
       "                  Conf.Level  L.E.pt U.E.pt\n",
       "Lower Achieved CI     0.8815 85.0000    110\n",
       "Interpolated CI       0.9500 82.5345    110\n",
       "Upper Achieved CI     0.9648 82.0000    110\n"
      ]
     },
     "metadata": {},
     "output_type": "display_data"
    }
   ],
   "source": [
    "library(BSDA)\n",
    "\n",
    "\n",
    "data <- data.frame(\n",
    "    num = c(1:15),\n",
    "    Authoritarianism = c(75,90,85,110,115,95,132,74,82,104,88,124,110,76,98)\n",
    ")\n",
    "attach(data)\n",
    "\n",
    "SIGN.test(Authoritarianism, md=100, alternative = \"two.sided\", conf.level = 0.95)\n"
   ]
  },
  {
   "attachments": {},
   "cell_type": "markdown",
   "metadata": {},
   "source": [
    "Based on the p-value of 0.6072, which is greater than the significance \n",
    "level of 0.05, we fail to reject the null hypothesis. This means that \n",
    "there is not enough evidence to conclude that the median score for the \n",
    "sampled population is significantly different from 100."
   ]
  },
  {
   "attachments": {},
   "cell_type": "markdown",
   "metadata": {},
   "source": [
    "#### 13.3.2\n",
    "\n",
    "Determining the effects of grapefruit juice on pharmacokinetics of oral digoxin (a drug often\n",
    "prescribed for heart ailments) was the goal of a study by Parker et al. (A-1). Seven healthy\n",
    "nonsmoking volunteers participated in the study. Subjects took digoxin with water for 2 weeks,\n",
    "no digoxin for 2 weeks, and digoxin with grapefruit juice for 2 weeks. The average peak plasma\n",
    "digoxin concentration (Cmax) when subjects took digoxin with water is given in the first column of\n",
    "the following table. The second column gives the Cmax concentration when subjects took digoxin\n",
    "with grapefruit juice. May we conclude on the basis of these data that the Cmax concentration is\n",
    "higher when digoxin is taken with grapefruit juice? Let $\\alpha$ = .5."
   ]
  },
  {
   "cell_type": "code",
   "execution_count": 2,
   "metadata": {
    "vscode": {
     "languageId": "r"
    }
   },
   "outputs": [
    {
     "data": {
      "text/plain": [
       "\n",
       "\tDependent-samples Sign-Test\n",
       "\n",
       "data:  GFC and h2o\n",
       "S = 4, p-value = 0.5\n",
       "alternative hypothesis: true median difference is greater than 0\n",
       "95 percent confidence interval:\n",
       " -2.577143       Inf\n",
       "sample estimates:\n",
       "median of x-y \n",
       "          0.1 \n",
       "\n",
       "Achieved and Interpolated Confidence Intervals: \n",
       "\n",
       "                  Conf.Level  L.E.pt U.E.pt\n",
       "Lower Achieved CI     0.9375 -2.5200    Inf\n",
       "Interpolated CI       0.9500 -2.5771    Inf\n",
       "Upper Achieved CI     0.9922 -2.7700    Inf\n"
      ]
     },
     "metadata": {},
     "output_type": "display_data"
    }
   ],
   "source": [
    "data <- data.frame(\n",
    "    h2o <- c(2.34,2.46,1.87,3.09,5.59,4.05,6.21),\n",
    "    GFC <- c(3.03,3.46,1.97,3.81,3.07,2.62,3.44)\n",
    ")\n",
    "\n",
    "attach(data)\n",
    "\n",
    "\n",
    "# Perform the sign test\n",
    "SIGN.test(GFC, h2o, alternative = \"greater\", conf.level = 0.95)"
   ]
  },
  {
   "attachments": {},
   "cell_type": "markdown",
   "metadata": {},
   "source": [
    "Based on the p-value of 0.5, which is greater than the significance level of 0.05, we fail to reject the null hypothesis. This means that there is not enough evidence to conclude that the Cmax concentration is significantly higher when digoxin is taken with grapefruit juice based on the given data."
   ]
  },
  {
   "attachments": {},
   "cell_type": "markdown",
   "metadata": {},
   "source": [
    "#### 13.3.3\n",
    "\n",
    "A sample of 15 patients suffering from asthma participated in an experiment to study the effect of a\n",
    "new treatment on pulmonary function. Among the various measurements recorded were those of\n",
    "forced expiratory volume (liters) in 1 second (FEV1) before and after application of the treatment.\n",
    "The results were as follows:\n",
    "\n",
    "On the basis of these data, can one conclude that the treatment is effective in increasing the FEV1\n",
    "level? Let $\\alpha$ = .05 and find the p value"
   ]
  },
  {
   "cell_type": "code",
   "execution_count": 3,
   "metadata": {
    "vscode": {
     "languageId": "r"
    }
   },
   "outputs": [
    {
     "data": {
      "text/plain": [
       "\n",
       "\tDependent-samples Sign-Test\n",
       "\n",
       "data:  before and after\n",
       "S = 2, p-value = 0.9983\n",
       "alternative hypothesis: true median difference is greater than 0\n",
       "95 percent confidence interval:\n",
       " -2.089952       Inf\n",
       "sample estimates:\n",
       "median of x-y \n",
       "        -1.69 \n",
       "\n",
       "Achieved and Interpolated Confidence Intervals: \n",
       "\n",
       "                  Conf.Level L.E.pt U.E.pt\n",
       "Lower Achieved CI     0.9408  -2.07    Inf\n",
       "Interpolated CI       0.9500  -2.09    Inf\n",
       "Upper Achieved CI     0.9824  -2.16    Inf\n"
      ]
     },
     "metadata": {},
     "output_type": "display_data"
    }
   ],
   "source": [
    "data <- data.frame(\n",
    "    before <- c(1.69,2.77,1.00,1.66,3.00,.85,1.42,2.82,2.58,1.84,1.89,1.91,1.75,2.46,2.35),\n",
    "    after <- c(1.69,2.22,3.07,3.35,3.00,2.74,3.61,5.14,2.44,4.17,2.42,2.94,3.04,4.62,4.42)\n",
    ")\n",
    "attach(data)\n",
    "\n",
    "SIGN.test(before, after, alternative = \"greater\", conf.level = 0.95)"
   ]
  },
  {
   "attachments": {},
   "cell_type": "markdown",
   "metadata": {},
   "source": [
    "Based on the p-value of 0.9983, which is greater than the significance level of 0.05, we fail to reject the null hypothesis. This means that there is not enough evidence to conclude that the treatment is effective in increasing the FEV1 level based on the given data."
   ]
  }
 ],
 "metadata": {
  "kernelspec": {
   "display_name": "R",
   "language": "R",
   "name": "ir"
  },
  "language_info": {
   "codemirror_mode": "r",
   "file_extension": ".r",
   "mimetype": "text/x-r-source",
   "name": "R",
   "pygments_lexer": "r",
   "version": "4.2.3"
  },
  "orig_nbformat": 4
 },
 "nbformat": 4,
 "nbformat_minor": 2
}
