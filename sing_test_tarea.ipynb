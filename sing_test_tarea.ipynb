{
 "cells": [
  {
   "attachments": {},
   "cell_type": "markdown",
   "metadata": {},
   "source": [
    "# Uriel Isaac Alvarez Cardenas"
   ]
  },
  {
   "attachments": {},
   "cell_type": "markdown",
   "metadata": {},
   "source": [
    "# Problema 1"
   ]
  },
  {
   "attachments": {},
   "cell_type": "markdown",
   "metadata": {},
   "source": [
    "Cocina de gourmet. Dos gourmets A y B, calificaron 22 comidas en un escala del 1 al 10. Los datos se muestran en la tabla. Los datos dan suficiente evidencia para idicar que uno de los gourmets tiende a dar calificaciones mas altas que el otro? Pruebe usando la prueba del signo con un valor de $\\alpha$ cercano a .05.\n",
    "\n",
    "a. Hallar la region de rechazo exacta para la prueba (distribucion binomial)\n",
    "\n",
    "b. Hse el estadistico z de muestra grande \n",
    "\n",
    "c. Compare los resultados de los incisos a y b\n"
   ]
  },
  {
   "cell_type": "code",
   "execution_count": 3,
   "metadata": {
    "vscode": {
     "languageId": "r"
    }
   },
   "outputs": [
    {
     "name": "stderr",
     "output_type": "stream",
     "text": [
      "Installing package into ‘/home/isaacalvarez/R/x86_64-redhat-linux-gnu-library/4.2’\n",
      "(as ‘lib’ is unspecified)\n",
      "\n"
     ]
    }
   ],
   "source": [
    "install.packages(\"BSDA\")\n",
    "library(BSDA)"
   ]
  },
  {
   "cell_type": "code",
   "execution_count": 4,
   "metadata": {
    "vscode": {
     "languageId": "r"
    }
   },
   "outputs": [],
   "source": [
    "# Datos\n",
    "A <- c(6, 4, 7, 8, 2, 7, 9, 7, 2, 4, 6, 8, 4, 3, 6, 9, 9, 4, 4, 5, 3, 5)\n",
    "B <- c(8, 5, 4, 7, 3, 4, 9, 8, 5, 3, 9, 5, 2, 3, 8, 10, 8, 6, 3, 4, 2, 3)\n"
   ]
  },
  {
   "cell_type": "code",
   "execution_count": null,
   "metadata": {
    "vscode": {
     "languageId": "r"
    }
   },
   "outputs": [
    {
     "name": "stdout",
     "output_type": "stream",
     "text": [
      "[1] 1.476533\n"
     ]
    }
   ],
   "source": [
    "diferencias <- A - B\n",
    "num_diferencias_positivas <- sum(diferencias > 0)\n",
    "num_diferencias_negativas <- sum(diferencias < 0)\n",
    "n <- length(diferencias)\n",
    "estadistico_prueba <- min(num_diferencias_positivas, num_diferencias_negativas)\n",
    "valor_p <- 2 * pbinom(estadistico_prueba, size = n, prob = 0.5, lower.tail = FALSE)\n",
    "print(valor_p)"
   ]
  },
  {
   "cell_type": "code",
   "execution_count": null,
   "metadata": {
    "vscode": {
     "languageId": "r"
    }
   },
   "outputs": [
    {
     "name": "stdout",
     "output_type": "stream",
     "text": [
      "[1] 0.3937686\n"
     ]
    }
   ],
   "source": [
    "p <- 0.5\n",
    "desviacion_estandar <- sqrt(n * p * (1 - p))\n",
    "estadistico_Z <- (estadistico_prueba - n * p) / desviacion_estandar\n",
    "valor_p_Z <- 2 * pnorm(abs(estadistico_Z), lower.tail = FALSE)\n",
    "print(valor_p_Z)"
   ]
  },
  {
   "cell_type": "code",
   "execution_count": null,
   "metadata": {
    "vscode": {
     "languageId": "r"
    }
   },
   "outputs": [
    {
     "data": {
      "text/html": [
       "'No rechazar la hipótesis nula'"
      ],
      "text/latex": [
       "'No rechazar la hipótesis nula'"
      ],
      "text/markdown": [
       "'No rechazar la hipótesis nula'"
      ],
      "text/plain": [
       "[1] \"No rechazar la hipótesis nula\""
      ]
     },
     "metadata": {},
     "output_type": "display_data"
    },
    {
     "data": {
      "text/html": [
       "'No rechazar la hipótesis nula'"
      ],
      "text/latex": [
       "'No rechazar la hipótesis nula'"
      ],
      "text/markdown": [
       "'No rechazar la hipótesis nula'"
      ],
      "text/plain": [
       "[1] \"No rechazar la hipótesis nula\""
      ]
     },
     "metadata": {},
     "output_type": "display_data"
    }
   ],
   "source": [
    "resultado_a <- ifelse(valor_p < 0.05, \"Rechazar la hipótesis nula\", \"No rechazar la hipótesis nula\")\n",
    "resultado_b <- ifelse(valor_p_Z < 0.05, \"Rechazar la hipótesis nula\", \"No rechazar la hipótesis nula\")\n",
    "\n",
    "resultado_a\n",
    "resultado_b"
   ]
  },
  {
   "attachments": {},
   "cell_type": "markdown",
   "metadata": {},
   "source": [
    "Tanto la prueba del signo con distribución binomial como la prueba del signo con el estadístico z de muestra grande indican que no hay suficiente evidencia para afirmar que uno de los gourmets tiende a dar calificaciones más altas que el otro. Ambos métodos llegan a la misma conclusión."
   ]
  },
  {
   "cell_type": "code",
   "execution_count": 20,
   "metadata": {
    "vscode": {
     "languageId": "r"
    }
   },
   "outputs": [
    {
     "data": {
      "text/plain": [
       "\n",
       "\tDependent-samples Sign-Test\n",
       "\n",
       "data:  A and B\n",
       "S = 11, p-value = 0.4119\n",
       "alternative hypothesis: true median difference is greater than 0\n",
       "95 percent confidence interval:\n",
       "  -1 Inf\n",
       "sample estimates:\n",
       "median of x-y \n",
       "          0.5 \n",
       "\n",
       "Achieved and Interpolated Confidence Intervals: \n",
       "\n",
       "                  Conf.Level L.E.pt U.E.pt\n",
       "Lower Achieved CI     0.9331     -1    Inf\n",
       "Interpolated CI       0.9500     -1    Inf\n",
       "Upper Achieved CI     0.9738     -1    Inf\n"
      ]
     },
     "metadata": {},
     "output_type": "display_data"
    }
   ],
   "source": [
    "SIGN.test(A, B, alternative = \"greater\")"
   ]
  },
  {
   "attachments": {},
   "cell_type": "markdown",
   "metadata": {},
   "source": [
    "# Proeblema 2"
   ]
  },
  {
   "cell_type": "code",
   "execution_count": 17,
   "metadata": {
    "vscode": {
     "languageId": "r"
    }
   },
   "outputs": [
    {
     "name": "stdout",
     "output_type": "stream",
     "text": [
      "[1] 0\n",
      "[1] \"Hay evidencia suficiente para indicar un porcentaje más alto de recuperación para uno de los medicamentos.\"\n"
     ]
    }
   ],
   "source": [
    "porcentaje_recuperado_med1 <- c(85.4, 83.1, 80.2, 74.5, 70.0, 81.5, 75.4, 79.2, 85.4, 80.4)\n",
    "porcentaje_recuperado_med2 <- c(82, 69, 73, 35, 42, 22, 52, 57, 76, 37)\n",
    "\n",
    "diferencia <- porcentaje_recuperado_med1 - porcentaje_recuperado_med2\n",
    "\n",
    "positivas <- sum(diferencia > 0)\n",
    "negativas <- sum(diferencia < 0)\n",
    "\n",
    "n <- length(diferencia)\n",
    "\n",
    "# Realizar prueba del signo\n",
    "p_valor <- min(positivas, negativas) / n\n",
    "\n",
    "alpha <- 0.05\n",
    "\n",
    "if (p_valor < alpha) {\n",
    "  mensaje <- \"Hay evidencia suficiente para indicar un porcentaje más alto de recuperación para uno de los medicamentos.\"\n",
    "} else {\n",
    "  mensaje <- \"No hay evidencia suficiente para indicar un porcentaje más alto de recuperación para uno de los medicamentos.\"\n",
    "}\n",
    "\n",
    "print(p_valor)\n",
    "print(mensaje)"
   ]
  },
  {
   "attachments": {},
   "cell_type": "markdown",
   "metadata": {},
   "source": [
    "podría ser inapropiado usar la prueba t de Student al analizar estos datos porque la distribución de los datos no parece ser normal y la prueba t asume normalidad. Además, la prueba t de Student es más adecuada para comparar medias, mientras que en este caso estamos interesados en comparar porcentajes de recuperación. Por lo tanto, la prueba del signo es más apropiada en este escenario."
   ]
  },
  {
   "cell_type": "code",
   "execution_count": 19,
   "metadata": {
    "vscode": {
     "languageId": "r"
    }
   },
   "outputs": [
    {
     "data": {
      "text/plain": [
       "\n",
       "\tDependent-samples Sign-Test\n",
       "\n",
       "data:  porcentaje_recuperado_med1 and porcentaje_recuperado_med2\n",
       "S = 10, p-value = 0.0009766\n",
       "alternative hypothesis: true median difference is greater than 0\n",
       "95 percent confidence interval:\n",
       " 9.165333      Inf\n",
       "sample estimates:\n",
       "median of x-y \n",
       "         22.8 \n",
       "\n",
       "Achieved and Interpolated Confidence Intervals: \n",
       "\n",
       "                  Conf.Level L.E.pt U.E.pt\n",
       "Lower Achieved CI     0.9453 9.4000    Inf\n",
       "Interpolated CI       0.9500 9.1653    Inf\n",
       "Upper Achieved CI     0.9893 7.2000    Inf\n"
      ]
     },
     "metadata": {},
     "output_type": "display_data"
    }
   ],
   "source": [
    "SIGN.test(porcentaje_recuperado_med1, porcentaje_recuperado_med2, alternative = \"greater\")"
   ]
  }
 ],
 "metadata": {
  "kernelspec": {
   "display_name": "R",
   "language": "R",
   "name": "ir"
  },
  "language_info": {
   "codemirror_mode": "r",
   "file_extension": ".r",
   "mimetype": "text/x-r-source",
   "name": "R",
   "pygments_lexer": "r",
   "version": "4.2.3"
  },
  "orig_nbformat": 4
 },
 "nbformat": 4,
 "nbformat_minor": 2
}
