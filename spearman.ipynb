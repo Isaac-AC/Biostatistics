{
 "cells": [
  {
   "attachments": {},
   "cell_type": "markdown",
   "metadata": {},
   "source": [
    "# THE SPEARMAN RANK CORRELATION COEFFICIENT\n",
    "\n",
    "lso known as Spearman's rho or Spearman's rank correlation coefficient, is a statistical measure that assesses the strength and direction of the monotonic relationship between two variables. It is an alternative to the Pearson correlation coefficient, which measures the linear relationship between variables."
   ]
  },
  {
   "attachments": {},
   "cell_type": "markdown",
   "metadata": {},
   "source": [
    "#### 13.10.1\n",
    "\n",
    "The following table shows 15 randomly selected geographic areas ranked by population density and\n",
    "age-adjusted death rate. Can we conclude at the .05 level of significance that population density and\n",
    "age-adjusted death rate are not mutually independent?"
   ]
  },
  {
   "cell_type": "code",
   "execution_count": 1,
   "metadata": {
    "vscode": {
     "languageId": "r"
    }
   },
   "outputs": [
    {
     "data": {
      "text/html": [
       "<table class=\"dataframe\">\n",
       "<caption>A data.frame: 6 × 3</caption>\n",
       "<thead>\n",
       "\t<tr><th></th><th scope=col>SUBJ</th><th scope=col>X</th><th scope=col>Y</th></tr>\n",
       "\t<tr><th></th><th scope=col>&lt;int&gt;</th><th scope=col>&lt;int&gt;</th><th scope=col>&lt;int&gt;</th></tr>\n",
       "</thead>\n",
       "<tbody>\n",
       "\t<tr><th scope=row>1</th><td>1</td><td> 8</td><td>10</td></tr>\n",
       "\t<tr><th scope=row>2</th><td>2</td><td> 2</td><td>14</td></tr>\n",
       "\t<tr><th scope=row>3</th><td>3</td><td>12</td><td> 4</td></tr>\n",
       "\t<tr><th scope=row>4</th><td>4</td><td> 4</td><td>15</td></tr>\n",
       "\t<tr><th scope=row>5</th><td>5</td><td> 9</td><td>11</td></tr>\n",
       "\t<tr><th scope=row>6</th><td>6</td><td> 3</td><td> 1</td></tr>\n",
       "</tbody>\n",
       "</table>\n"
      ],
      "text/latex": [
       "A data.frame: 6 × 3\n",
       "\\begin{tabular}{r|lll}\n",
       "  & SUBJ & X & Y\\\\\n",
       "  & <int> & <int> & <int>\\\\\n",
       "\\hline\n",
       "\t1 & 1 &  8 & 10\\\\\n",
       "\t2 & 2 &  2 & 14\\\\\n",
       "\t3 & 3 & 12 &  4\\\\\n",
       "\t4 & 4 &  4 & 15\\\\\n",
       "\t5 & 5 &  9 & 11\\\\\n",
       "\t6 & 6 &  3 &  1\\\\\n",
       "\\end{tabular}\n"
      ],
      "text/markdown": [
       "\n",
       "A data.frame: 6 × 3\n",
       "\n",
       "| <!--/--> | SUBJ &lt;int&gt; | X &lt;int&gt; | Y &lt;int&gt; |\n",
       "|---|---|---|---|\n",
       "| 1 | 1 |  8 | 10 |\n",
       "| 2 | 2 |  2 | 14 |\n",
       "| 3 | 3 | 12 |  4 |\n",
       "| 4 | 4 |  4 | 15 |\n",
       "| 5 | 5 |  9 | 11 |\n",
       "| 6 | 6 |  3 |  1 |\n",
       "\n"
      ],
      "text/plain": [
       "  SUBJ X  Y \n",
       "1 1     8 10\n",
       "2 2     2 14\n",
       "3 3    12  4\n",
       "4 4     4 15\n",
       "5 5     9 11\n",
       "6 6     3  1"
      ]
     },
     "metadata": {},
     "output_type": "display_data"
    }
   ],
   "source": [
    "data <- read.csv(\"data/ch13_all/EXR_C13_S10_01.csv\")\n",
    "head(data)\n",
    "attach(data)"
   ]
  },
  {
   "cell_type": "code",
   "execution_count": 2,
   "metadata": {
    "vscode": {
     "languageId": "r"
    }
   },
   "outputs": [
    {
     "data": {
      "text/plain": [
       "\n",
       "\tSpearman's rank correlation rho\n",
       "\n",
       "data:  X and Y\n",
       "S = 600, p-value = 0.8025\n",
       "alternative hypothesis: true rho is not equal to 0\n",
       "sample estimates:\n",
       "        rho \n",
       "-0.07142857 \n"
      ]
     },
     "metadata": {},
     "output_type": "display_data"
    }
   ],
   "source": [
    "cor.test(X,Y,method = \"spearman\")"
   ]
  },
  {
   "attachments": {},
   "cell_type": "markdown",
   "metadata": {},
   "source": [
    "Based on the analysis using Spearman's rank correlation coefficient, with a calculated value of -0.071 and a p-value of 0.8025, we fail to reject the null hypothesis at the 0.05 level of significance. Therefore, we cannot conclude that there is a significant association between population density and age-adjusted death rate. The results suggest that these two variables are likely to be mutually independent."
   ]
  },
  {
   "attachments": {},
   "cell_type": "markdown",
   "metadata": {},
   "source": [
    "#### 13.10.2\n",
    "\n",
    "The following table shows 10 communities ranked by decayed, missing, or filled (DMF) teeth per 100\n",
    "children and fluoride concentration in ppm in the public water supply.\n",
    "\n",
    "Do these data provide sufficient evidence to indicate that the number of DMF teeth per 100 children\n",
    "tends to decrease as fluoride concentration increases? Let $\\alpha$ = .05."
   ]
  },
  {
   "cell_type": "code",
   "execution_count": 3,
   "metadata": {
    "vscode": {
     "languageId": "r"
    }
   },
   "outputs": [
    {
     "data": {
      "text/html": [
       "<table class=\"dataframe\">\n",
       "<caption>A data.frame: 6 × 3</caption>\n",
       "<thead>\n",
       "\t<tr><th></th><th scope=col>SUBJ</th><th scope=col>X</th><th scope=col>Y</th></tr>\n",
       "\t<tr><th></th><th scope=col>&lt;int&gt;</th><th scope=col>&lt;int&gt;</th><th scope=col>&lt;int&gt;</th></tr>\n",
       "</thead>\n",
       "<tbody>\n",
       "\t<tr><th scope=row>1</th><td>1</td><td>8</td><td>1</td></tr>\n",
       "\t<tr><th scope=row>2</th><td>2</td><td>9</td><td>3</td></tr>\n",
       "\t<tr><th scope=row>3</th><td>3</td><td>7</td><td>4</td></tr>\n",
       "\t<tr><th scope=row>4</th><td>4</td><td>3</td><td>9</td></tr>\n",
       "\t<tr><th scope=row>5</th><td>5</td><td>2</td><td>8</td></tr>\n",
       "\t<tr><th scope=row>6</th><td>6</td><td>4</td><td>7</td></tr>\n",
       "</tbody>\n",
       "</table>\n"
      ],
      "text/latex": [
       "A data.frame: 6 × 3\n",
       "\\begin{tabular}{r|lll}\n",
       "  & SUBJ & X & Y\\\\\n",
       "  & <int> & <int> & <int>\\\\\n",
       "\\hline\n",
       "\t1 & 1 & 8 & 1\\\\\n",
       "\t2 & 2 & 9 & 3\\\\\n",
       "\t3 & 3 & 7 & 4\\\\\n",
       "\t4 & 4 & 3 & 9\\\\\n",
       "\t5 & 5 & 2 & 8\\\\\n",
       "\t6 & 6 & 4 & 7\\\\\n",
       "\\end{tabular}\n"
      ],
      "text/markdown": [
       "\n",
       "A data.frame: 6 × 3\n",
       "\n",
       "| <!--/--> | SUBJ &lt;int&gt; | X &lt;int&gt; | Y &lt;int&gt; |\n",
       "|---|---|---|---|\n",
       "| 1 | 1 | 8 | 1 |\n",
       "| 2 | 2 | 9 | 3 |\n",
       "| 3 | 3 | 7 | 4 |\n",
       "| 4 | 4 | 3 | 9 |\n",
       "| 5 | 5 | 2 | 8 |\n",
       "| 6 | 6 | 4 | 7 |\n",
       "\n"
      ],
      "text/plain": [
       "  SUBJ X Y\n",
       "1 1    8 1\n",
       "2 2    9 3\n",
       "3 3    7 4\n",
       "4 4    3 9\n",
       "5 5    2 8\n",
       "6 6    4 7"
      ]
     },
     "metadata": {},
     "output_type": "display_data"
    },
    {
     "name": "stderr",
     "output_type": "stream",
     "text": [
      "The following objects are masked from data (pos = 3):\n",
      "\n",
      "    SUBJ, X, Y\n",
      "\n",
      "\n"
     ]
    }
   ],
   "source": [
    "data <- read.csv(\"data/ch13_all/EXR_C13_S10_02.csv\")\n",
    "head(data)\n",
    "attach(data)"
   ]
  },
  {
   "cell_type": "code",
   "execution_count": 4,
   "metadata": {
    "vscode": {
     "languageId": "r"
    }
   },
   "outputs": [
    {
     "data": {
      "text/plain": [
       "\n",
       "\tSpearman's rank correlation rho\n",
       "\n",
       "data:  X and Y\n",
       "S = 322, p-value < 2.2e-16\n",
       "alternative hypothesis: true rho is not equal to 0\n",
       "sample estimates:\n",
       "       rho \n",
       "-0.9515152 \n"
      ]
     },
     "metadata": {},
     "output_type": "display_data"
    }
   ],
   "source": [
    "cor.test(X,Y,method = \"spearman\")"
   ]
  },
  {
   "attachments": {},
   "cell_type": "markdown",
   "metadata": {},
   "source": [
    "Based on the analysis using Spearman's rank correlation coefficient, with a calculated value of -0.952 and an extremely small p-value (< 2.2e-16), we can conclude that there is strong evidence to support the claim that the number of decayed, missing, or filled (DMF) teeth per 100 children tends to decrease as fluoride concentration in the public water supply increases. The negative correlation coefficient suggests a strong negative monotonic relationship between the two variables. Therefore, higher fluoride concentrations are associated with lower rates of DMF teeth in the communities examined."
   ]
  },
  {
   "attachments": {},
   "cell_type": "markdown",
   "metadata": {},
   "source": [
    "#### 13.10.3\n",
    "\n",
    "The purpose of a study by Nozawa et al. was to evaluate the outcome of surgical repair of pars\n",
    "interarticularis defect by segmental wire fixation in young adults with lumbar spondylolysis. The\n",
    "authors cite literature indicating that segmental wire fixation has been successful in the treatment of nonathletes with spondylolysis and point out that no information existed on the results of this type of surgery in athletes. In a retrospective study of subjects having surgery between 1993 and 2000, the authors found 20 subjects who had undergone the surgery. The following table shows the age (years) at surgery and duration (months) of follow-up care for these subjects.\n",
    "\n",
    "May we conclude, on the basis of these data, that in a population of similar subjects there is an\n",
    "association between age and duration of follow-up? Let $\\alpha$ = .05."
   ]
  },
  {
   "cell_type": "code",
   "execution_count": 5,
   "metadata": {
    "vscode": {
     "languageId": "r"
    }
   },
   "outputs": [
    {
     "data": {
      "text/html": [
       "<table class=\"dataframe\">\n",
       "<caption>A data.frame: 3 × 2</caption>\n",
       "<thead>\n",
       "\t<tr><th></th><th scope=col>FOLLOWUP</th><th scope=col>AGE</th></tr>\n",
       "\t<tr><th></th><th scope=col>&lt;int&gt;</th><th scope=col>&lt;int&gt;</th></tr>\n",
       "</thead>\n",
       "<tbody>\n",
       "\t<tr><th scope=row>1</th><td>103</td><td>37</td></tr>\n",
       "\t<tr><th scope=row>2</th><td> 68</td><td>27</td></tr>\n",
       "\t<tr><th scope=row>3</th><td> 62</td><td>12</td></tr>\n",
       "</tbody>\n",
       "</table>\n"
      ],
      "text/latex": [
       "A data.frame: 3 × 2\n",
       "\\begin{tabular}{r|ll}\n",
       "  & FOLLOWUP & AGE\\\\\n",
       "  & <int> & <int>\\\\\n",
       "\\hline\n",
       "\t1 & 103 & 37\\\\\n",
       "\t2 &  68 & 27\\\\\n",
       "\t3 &  62 & 12\\\\\n",
       "\\end{tabular}\n"
      ],
      "text/markdown": [
       "\n",
       "A data.frame: 3 × 2\n",
       "\n",
       "| <!--/--> | FOLLOWUP &lt;int&gt; | AGE &lt;int&gt; |\n",
       "|---|---|---|\n",
       "| 1 | 103 | 37 |\n",
       "| 2 |  68 | 27 |\n",
       "| 3 |  62 | 12 |\n",
       "\n"
      ],
      "text/plain": [
       "  FOLLOWUP AGE\n",
       "1 103      37 \n",
       "2  68      27 \n",
       "3  62      12 "
      ]
     },
     "metadata": {},
     "output_type": "display_data"
    }
   ],
   "source": [
    "data <-read.csv(\"data/ch13_all/EXR_C13_S10_03.csv\")\n",
    "head(data,3)\n",
    "attach(data)"
   ]
  },
  {
   "cell_type": "code",
   "execution_count": 6,
   "metadata": {
    "vscode": {
     "languageId": "r"
    }
   },
   "outputs": [
    {
     "name": "stderr",
     "output_type": "stream",
     "text": [
      "Warning message in cor.test.default(FOLLOWUP, AGE, method = \"spearman\"):\n",
      "“Cannot compute exact p-value with ties”\n"
     ]
    },
    {
     "data": {
      "text/plain": [
       "\n",
       "\tSpearman's rank correlation rho\n",
       "\n",
       "data:  FOLLOWUP and AGE\n",
       "S = 1305.8, p-value = 0.9392\n",
       "alternative hypothesis: true rho is not equal to 0\n",
       "sample estimates:\n",
       "       rho \n",
       "0.01823019 \n"
      ]
     },
     "metadata": {},
     "output_type": "display_data"
    }
   ],
   "source": [
    "cor.test(FOLLOWUP, AGE, method = \"spearman\")"
   ]
  },
  {
   "attachments": {},
   "cell_type": "markdown",
   "metadata": {},
   "source": [
    "Based on the analysis using Spearman's rank correlation coefficient, with a calculated value of 0.018 and a p-value of 0.9392, we fail to reject the null hypothesis at the 0.05 level of significance. Therefore, we cannot conclude that there is a significant association between age at surgery and the duration of follow-up in a population of similar subjects. The results suggest that there is no clear monotonic relationship between these two variables."
   ]
  },
  {
   "attachments": {},
   "cell_type": "markdown",
   "metadata": {},
   "source": [
    "#### 13.10.4\n",
    "\n",
    "Nozawa et al. also calculated the Japanese Orthopaedic Association score for measuring back pain (JOA). The results for the 20 subjects along with the duration of follow-up are shown in the following table. The higher the number, the lesser the degree of pain.\n",
    "Can we conclude from these data that in general there is a relationship between length of follow-up\n",
    "and JOA score at the time of the operation? Let $\\alpha$ = .05."
   ]
  },
  {
   "cell_type": "code",
   "execution_count": 7,
   "metadata": {
    "vscode": {
     "languageId": "r"
    }
   },
   "outputs": [
    {
     "data": {
      "text/html": [
       "<table class=\"dataframe\">\n",
       "<caption>A data.frame: 3 × 2</caption>\n",
       "<thead>\n",
       "\t<tr><th></th><th scope=col>MONTHS</th><th scope=col>JOA</th></tr>\n",
       "\t<tr><th></th><th scope=col>&lt;int&gt;</th><th scope=col>&lt;int&gt;</th></tr>\n",
       "</thead>\n",
       "<tbody>\n",
       "\t<tr><th scope=row>1</th><td>103</td><td>21</td></tr>\n",
       "\t<tr><th scope=row>2</th><td> 68</td><td>14</td></tr>\n",
       "\t<tr><th scope=row>3</th><td> 62</td><td>26</td></tr>\n",
       "</tbody>\n",
       "</table>\n"
      ],
      "text/latex": [
       "A data.frame: 3 × 2\n",
       "\\begin{tabular}{r|ll}\n",
       "  & MONTHS & JOA\\\\\n",
       "  & <int> & <int>\\\\\n",
       "\\hline\n",
       "\t1 & 103 & 21\\\\\n",
       "\t2 &  68 & 14\\\\\n",
       "\t3 &  62 & 26\\\\\n",
       "\\end{tabular}\n"
      ],
      "text/markdown": [
       "\n",
       "A data.frame: 3 × 2\n",
       "\n",
       "| <!--/--> | MONTHS &lt;int&gt; | JOA &lt;int&gt; |\n",
       "|---|---|---|\n",
       "| 1 | 103 | 21 |\n",
       "| 2 |  68 | 14 |\n",
       "| 3 |  62 | 26 |\n",
       "\n"
      ],
      "text/plain": [
       "  MONTHS JOA\n",
       "1 103    21 \n",
       "2  68    14 \n",
       "3  62    26 "
      ]
     },
     "metadata": {},
     "output_type": "display_data"
    }
   ],
   "source": [
    "data <-read.csv(\"data/ch13_all/EXR_C13_S10_04.csv\")\n",
    "head(data,3)\n",
    "attach(data)"
   ]
  },
  {
   "cell_type": "code",
   "execution_count": 8,
   "metadata": {
    "vscode": {
     "languageId": "r"
    }
   },
   "outputs": [
    {
     "name": "stderr",
     "output_type": "stream",
     "text": [
      "Warning message in cor.test.default(MONTHS, JOA, method = \"spearman\"):\n",
      "“Cannot compute exact p-value with ties”\n"
     ]
    },
    {
     "data": {
      "text/plain": [
       "\n",
       "\tSpearman's rank correlation rho\n",
       "\n",
       "data:  MONTHS and JOA\n",
       "S = 1469.3, p-value = 0.6603\n",
       "alternative hypothesis: true rho is not equal to 0\n",
       "sample estimates:\n",
       "       rho \n",
       "-0.1047632 \n"
      ]
     },
     "metadata": {},
     "output_type": "display_data"
    }
   ],
   "source": [
    "cor.test(MONTHS, JOA, method = \"spearman\")"
   ]
  },
  {
   "attachments": {},
   "cell_type": "markdown",
   "metadata": {},
   "source": [
    "Based on the analysis using Spearman's rank correlation coefficient, with a calculated value of -0.105 and a p-value of 0.6603, we fail to reject the null hypothesis at the 0.05 level of significance. Therefore, we cannot conclude that there is a significant relationship between the length of follow-up and the Japanese Orthopaedic Association (JOA) score at the time of the operation in general. The results suggest that there is no clear monotonic relationship between these two variables."
   ]
  },
  {
   "attachments": {},
   "cell_type": "markdown",
   "metadata": {},
   "source": [
    "#### 13.10.5\n",
    "\n",
    "Butz et al. studied the use of noninvasive positive-pressure ventilation by patients with\n",
    "amyotrophic lateral sclerosis. They evaluated the benefit of the procedure on patients’ symptoms,\n",
    "quality of life, and survival. Two variables of interest are PaCO2, partial pressure of arterial carbon dioxide, and PaO2, partial pressure of arterial oxygen. The following table shows, for 30 subjects, values of these variables (mm Hg) obtained from baseline arterial blood gas analyses.\n",
    "\n",
    "On the basis of these data may we conclude that there is an association between PaCO2 and PaO2\n",
    "values? Let $\\alpha$ = .05."
   ]
  },
  {
   "cell_type": "code",
   "execution_count": 9,
   "metadata": {
    "vscode": {
     "languageId": "r"
    }
   },
   "outputs": [
    {
     "data": {
      "text/html": [
       "<table class=\"dataframe\">\n",
       "<caption>A data.frame: 3 × 2</caption>\n",
       "<thead>\n",
       "\t<tr><th></th><th scope=col>PACO2</th><th scope=col>PAO2</th></tr>\n",
       "\t<tr><th></th><th scope=col>&lt;dbl&gt;</th><th scope=col>&lt;dbl&gt;</th></tr>\n",
       "</thead>\n",
       "<tbody>\n",
       "\t<tr><th scope=row>1</th><td>40</td><td>101</td></tr>\n",
       "\t<tr><th scope=row>2</th><td>47</td><td> 69</td></tr>\n",
       "\t<tr><th scope=row>3</th><td>34</td><td>132</td></tr>\n",
       "</tbody>\n",
       "</table>\n"
      ],
      "text/latex": [
       "A data.frame: 3 × 2\n",
       "\\begin{tabular}{r|ll}\n",
       "  & PACO2 & PAO2\\\\\n",
       "  & <dbl> & <dbl>\\\\\n",
       "\\hline\n",
       "\t1 & 40 & 101\\\\\n",
       "\t2 & 47 &  69\\\\\n",
       "\t3 & 34 & 132\\\\\n",
       "\\end{tabular}\n"
      ],
      "text/markdown": [
       "\n",
       "A data.frame: 3 × 2\n",
       "\n",
       "| <!--/--> | PACO2 &lt;dbl&gt; | PAO2 &lt;dbl&gt; |\n",
       "|---|---|---|\n",
       "| 1 | 40 | 101 |\n",
       "| 2 | 47 |  69 |\n",
       "| 3 | 34 | 132 |\n",
       "\n"
      ],
      "text/plain": [
       "  PACO2 PAO2\n",
       "1 40    101 \n",
       "2 47     69 \n",
       "3 34    132 "
      ]
     },
     "metadata": {},
     "output_type": "display_data"
    }
   ],
   "source": [
    "data <-read.csv(\"data/ch13_all/EXR_C13_S10_05.csv\")\n",
    "head(data,3)\n",
    "attach(data)"
   ]
  },
  {
   "cell_type": "code",
   "execution_count": 10,
   "metadata": {
    "vscode": {
     "languageId": "r"
    }
   },
   "outputs": [
    {
     "name": "stderr",
     "output_type": "stream",
     "text": [
      "Warning message in cor.test.default(PACO2, PAO2, method = \"spearman\"):\n",
      "“Cannot compute exact p-value with ties”\n"
     ]
    },
    {
     "data": {
      "text/plain": [
       "\n",
       "\tSpearman's rank correlation rho\n",
       "\n",
       "data:  PACO2 and PAO2\n",
       "S = 6430.6, p-value = 0.01753\n",
       "alternative hypothesis: true rho is not equal to 0\n",
       "sample estimates:\n",
       "      rho \n",
       "-0.430622 \n"
      ]
     },
     "metadata": {},
     "output_type": "display_data"
    }
   ],
   "source": [
    "cor.test(PACO2, PAO2, method = \"spearman\")"
   ]
  },
  {
   "attachments": {},
   "cell_type": "markdown",
   "metadata": {},
   "source": [
    "Based on the analysis using Spearman's rank correlation coefficient, with a calculated value of -0.431 and a p-value of 0.01753, we can conclude that there is a significant association between PaCO2 and PaO2 values in the population of patients with amyotrophic lateral sclerosis. The negative correlation coefficient suggests an inverse relationship between these two variables. As PaCO2 increases, PaO2 tends to decrease. Therefore, changes in PaCO2 levels are associated with changes in PaO2 levels in this context."
   ]
  },
  {
   "attachments": {},
   "cell_type": "markdown",
   "metadata": {},
   "source": [
    "#### 13.10.6\n",
    "\n",
    "Seventeen patients with a history of congestive heart failure participated in a study to assess the\n",
    "effects of exercise on various bodily functions. During a period of exercise the following data were\n",
    "collected on the percent change in plasma norepinephrine (Y) and the percent change in oxygen\n",
    "consumption (X):\n",
    "\n",
    "On the basis of these data can one conclude that there is an association between the two variables? Let $\\alpha$ = .05."
   ]
  },
  {
   "cell_type": "code",
   "execution_count": 11,
   "metadata": {
    "vscode": {
     "languageId": "r"
    }
   },
   "outputs": [
    {
     "data": {
      "text/html": [
       "<table class=\"dataframe\">\n",
       "<caption>A data.frame: 3 × 3</caption>\n",
       "<thead>\n",
       "\t<tr><th></th><th scope=col>SUBJECT</th><th scope=col>X</th><th scope=col>Y</th></tr>\n",
       "\t<tr><th></th><th scope=col>&lt;int&gt;</th><th scope=col>&lt;int&gt;</th><th scope=col>&lt;int&gt;</th></tr>\n",
       "</thead>\n",
       "<tbody>\n",
       "\t<tr><th scope=row>1</th><td>1</td><td>500</td><td>525</td></tr>\n",
       "\t<tr><th scope=row>2</th><td>2</td><td>475</td><td>130</td></tr>\n",
       "\t<tr><th scope=row>3</th><td>3</td><td>390</td><td>325</td></tr>\n",
       "</tbody>\n",
       "</table>\n"
      ],
      "text/latex": [
       "A data.frame: 3 × 3\n",
       "\\begin{tabular}{r|lll}\n",
       "  & SUBJECT & X & Y\\\\\n",
       "  & <int> & <int> & <int>\\\\\n",
       "\\hline\n",
       "\t1 & 1 & 500 & 525\\\\\n",
       "\t2 & 2 & 475 & 130\\\\\n",
       "\t3 & 3 & 390 & 325\\\\\n",
       "\\end{tabular}\n"
      ],
      "text/markdown": [
       "\n",
       "A data.frame: 3 × 3\n",
       "\n",
       "| <!--/--> | SUBJECT &lt;int&gt; | X &lt;int&gt; | Y &lt;int&gt; |\n",
       "|---|---|---|---|\n",
       "| 1 | 1 | 500 | 525 |\n",
       "| 2 | 2 | 475 | 130 |\n",
       "| 3 | 3 | 390 | 325 |\n",
       "\n"
      ],
      "text/plain": [
       "  SUBJECT X   Y  \n",
       "1 1       500 525\n",
       "2 2       475 130\n",
       "3 3       390 325"
      ]
     },
     "metadata": {},
     "output_type": "display_data"
    },
    {
     "name": "stderr",
     "output_type": "stream",
     "text": [
      "The following objects are masked from data (pos = 6):\n",
      "\n",
      "    X, Y\n",
      "\n",
      "\n",
      "The following objects are masked from data (pos = 7):\n",
      "\n",
      "    X, Y\n",
      "\n",
      "\n"
     ]
    }
   ],
   "source": [
    "data <-read.csv(\"data/ch13_all/EXR_C13_S10_06.csv\")\n",
    "head(data,3)\n",
    "attach(data)"
   ]
  },
  {
   "cell_type": "code",
   "execution_count": 12,
   "metadata": {
    "vscode": {
     "languageId": "r"
    }
   },
   "outputs": [
    {
     "name": "stderr",
     "output_type": "stream",
     "text": [
      "Warning message in cor.test.default(X, Y, method = \"spearman\"):\n",
      "“Cannot compute exact p-value with ties”\n"
     ]
    },
    {
     "data": {
      "text/plain": [
       "\n",
       "\tSpearman's rank correlation rho\n",
       "\n",
       "data:  X and Y\n",
       "S = 246.95, p-value = 0.00186\n",
       "alternative hypothesis: true rho is not equal to 0\n",
       "sample estimates:\n",
       "      rho \n",
       "0.6973605 \n"
      ]
     },
     "metadata": {},
     "output_type": "display_data"
    }
   ],
   "source": [
    "cor.test(X, Y, method = \"spearman\")"
   ]
  },
  {
   "attachments": {},
   "cell_type": "markdown",
   "metadata": {},
   "source": [
    "Based on the analysis using Spearman's rank correlation coefficient, with a calculated value of 0.697 and a p-value of 0.00186, we can conclude that there is a significant association between the percent change in plasma norepinephrine and the percent change in oxygen consumption in patients with a history of congestive heart failure. The positive correlation coefficient suggests a positive relationship between these two variables. As the percent change in oxygen consumption increases, the percent change in plasma norepinephrine also tends to increase. Therefore, changes in oxygen consumption are associated with changes in plasma norepinephrine levels in this population."
   ]
  }
 ],
 "metadata": {
  "kernelspec": {
   "display_name": "R",
   "language": "R",
   "name": "ir"
  },
  "language_info": {
   "codemirror_mode": "r",
   "file_extension": ".r",
   "mimetype": "text/x-r-source",
   "name": "R",
   "pygments_lexer": "r",
   "version": "4.2.3"
  },
  "orig_nbformat": 4
 },
 "nbformat": 4,
 "nbformat_minor": 2
}
