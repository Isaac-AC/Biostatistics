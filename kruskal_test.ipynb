{
 "cells": [
  {
   "cell_type": "code",
   "execution_count": 1,
   "metadata": {
    "vscode": {
     "languageId": "r"
    }
   },
   "outputs": [
    {
     "name": "stderr",
     "output_type": "stream",
     "text": [
      "Installing package into ‘/home/isaacalvarez/R/x86_64-redhat-linux-gnu-library/4.2’\n",
      "(as ‘lib’ is unspecified)\n",
      "\n",
      "\n",
      "Attaching package: ‘dplyr’\n",
      "\n",
      "\n",
      "The following objects are masked from ‘package:stats’:\n",
      "\n",
      "    filter, lag\n",
      "\n",
      "\n",
      "The following objects are masked from ‘package:base’:\n",
      "\n",
      "    intersect, setdiff, setequal, union\n",
      "\n",
      "\n"
     ]
    }
   ],
   "source": [
    "install.packages(\"dplyr\")\n",
    "library(dplyr)"
   ]
  },
  {
   "attachments": {},
   "cell_type": "markdown",
   "metadata": {},
   "source": [
    "# THE KRUSKAL–WALLIS ONE-WAY ANALYSIS OF VARIANCE BY RANKS\n",
    "\n",
    "is a non-parametric statistical test used to determine if there are significant differences between the medians of two or more independent groups. It is an extension of the Mann-Whitney U test for comparing two independent groups and can be considered a non-parametric alternative to the one-way analysis of variance (ANOVA) test."
   ]
  },
  {
   "attachments": {},
   "cell_type": "markdown",
   "metadata": {},
   "source": [
    "For the following exercises, perform the test at the indicated level of significance and determine the\n",
    "p value"
   ]
  },
  {
   "attachments": {},
   "cell_type": "markdown",
   "metadata": {},
   "source": [
    "#### 13.8.1\n",
    "\n",
    "In a study of healthy subjects grouped by age (Younger: 19–50 years, Seniors: 65–75 years, and\n",
    "Longeval: 85–102 years), Herrmann et al. (A-8) measured their vitamin B-12 levels (ng/L). All\n",
    "elderly subjects were living at home and able to carry out normal day-to-day activities. The following\n",
    "table shows vitamin B-12 levels for 50 subjects in the young group, 92 seniors, and 90 subjects in the\n",
    "longeval group.\n",
    "\n",
    "May we conclude, on the basis of these data, that the populations represented by these samples differ\n",
    "with respect to vitamin B-12 levels? Let $\\alpha$ = .01."
   ]
  },
  {
   "cell_type": "code",
   "execution_count": 4,
   "metadata": {
    "vscode": {
     "languageId": "r"
    }
   },
   "outputs": [
    {
     "data": {
      "text/html": [
       "<table class=\"dataframe\">\n",
       "<caption>A data.frame: 3 × 2</caption>\n",
       "<thead>\n",
       "\t<tr><th></th><th scope=col>B12</th><th scope=col>GROUP</th></tr>\n",
       "\t<tr><th></th><th scope=col>&lt;int&gt;</th><th scope=col>&lt;int&gt;</th></tr>\n",
       "</thead>\n",
       "<tbody>\n",
       "\t<tr><th scope=row>1</th><td>230</td><td>1</td></tr>\n",
       "\t<tr><th scope=row>2</th><td>477</td><td>1</td></tr>\n",
       "\t<tr><th scope=row>3</th><td>561</td><td>1</td></tr>\n",
       "</tbody>\n",
       "</table>\n"
      ],
      "text/latex": [
       "A data.frame: 3 × 2\n",
       "\\begin{tabular}{r|ll}\n",
       "  & B12 & GROUP\\\\\n",
       "  & <int> & <int>\\\\\n",
       "\\hline\n",
       "\t1 & 230 & 1\\\\\n",
       "\t2 & 477 & 1\\\\\n",
       "\t3 & 561 & 1\\\\\n",
       "\\end{tabular}\n"
      ],
      "text/markdown": [
       "\n",
       "A data.frame: 3 × 2\n",
       "\n",
       "| <!--/--> | B12 &lt;int&gt; | GROUP &lt;int&gt; |\n",
       "|---|---|---|\n",
       "| 1 | 230 | 1 |\n",
       "| 2 | 477 | 1 |\n",
       "| 3 | 561 | 1 |\n",
       "\n"
      ],
      "text/plain": [
       "  B12 GROUP\n",
       "1 230 1    \n",
       "2 477 1    \n",
       "3 561 1    "
      ]
     },
     "metadata": {},
     "output_type": "display_data"
    }
   ],
   "source": [
    "data <- read.csv(\"data/ch13_all/EXR_C13_S08_01.csv\")\n",
    "head(data,3)"
   ]
  },
  {
   "cell_type": "code",
   "execution_count": 5,
   "metadata": {
    "vscode": {
     "languageId": "r"
    }
   },
   "outputs": [],
   "source": [
    "attach(data)"
   ]
  },
  {
   "cell_type": "code",
   "execution_count": 6,
   "metadata": {
    "vscode": {
     "languageId": "r"
    }
   },
   "outputs": [
    {
     "data": {
      "text/plain": [
       "\n",
       "\tKruskal-Wallis rank sum test\n",
       "\n",
       "data:  B12 by GROUP\n",
       "Kruskal-Wallis chi-squared = 11.381, df = 2, p-value = 0.003378\n"
      ]
     },
     "metadata": {},
     "output_type": "display_data"
    }
   ],
   "source": [
    "kruskal.test(B12 ~ GROUP, data = data)\n"
   ]
  },
  {
   "attachments": {},
   "cell_type": "markdown",
   "metadata": {},
   "source": [
    "#### 13.8.2\n",
    "The following are outpatient charges (- $100) made to patients for a certain surgical procedure by\n",
    "samples of hospitals located in three different areas of the country\n",
    "Can we conclude at the .05 level of significance that the three areas differ with respect to the charges?"
   ]
  },
  {
   "cell_type": "code",
   "execution_count": 13,
   "metadata": {
    "vscode": {
     "languageId": "r"
    }
   },
   "outputs": [
    {
     "name": "stderr",
     "output_type": "stream",
     "text": [
      "The following objects are masked from data (pos = 3):\n",
      "\n",
      "    AREA, GROUP\n",
      "\n",
      "\n",
      "The following object is masked from data (pos = 4):\n",
      "\n",
      "    GROUP\n",
      "\n",
      "\n",
      "The following objects are masked from data (pos = 5):\n",
      "\n",
      "    AREA, GROUP\n",
      "\n",
      "\n",
      "The following object is masked from data (pos = 6):\n",
      "\n",
      "    GROUP\n",
      "\n",
      "\n"
     ]
    },
    {
     "data": {
      "text/plain": [
       "\n",
       "\tKruskal-Wallis rank sum test\n",
       "\n",
       "data:  AREA by GROUP\n",
       "Kruskal-Wallis chi-squared = 11.52, df = 2, p-value = 0.003151\n"
      ]
     },
     "metadata": {},
     "output_type": "display_data"
    }
   ],
   "source": [
    "data <- read.csv(\"data/ch13_all/EXR_C13_S08_02.csv\")\n",
    "attach(data)\n",
    "kruskal.test(AREA ~ GROUP, data = data)"
   ]
  },
  {
   "attachments": {},
   "cell_type": "markdown",
   "metadata": {},
   "source": [
    "#### 13.8.4\n",
    "\n",
    "Refer to Example 13.8.1. Another variable of interest to Lacroix et al. (A-7) was the number of\n",
    "alveolar cells in three groups of subjects exposed to air, benzaldehyde, or acetaldehyde. The\n",
    "following table gives the information for six guinea pigs in each of the three treatment groups.\n",
    "\n",
    "May we conclude, on the basis of these data, that the number of alveolar cells in ovalbumin-sensitized\n",
    "guinea pigs differs with type of exposure? Let $\\alpha$ = .05."
   ]
  },
  {
   "cell_type": "code",
   "execution_count": 15,
   "metadata": {
    "vscode": {
     "languageId": "r"
    }
   },
   "outputs": [
    {
     "data": {
      "text/html": [
       "<table class=\"dataframe\">\n",
       "<caption>A data.frame: 3 × 2</caption>\n",
       "<thead>\n",
       "\t<tr><th></th><th scope=col>CELLS</th><th scope=col>GROUP</th></tr>\n",
       "\t<tr><th></th><th scope=col>&lt;dbl&gt;</th><th scope=col>&lt;chr&gt;</th></tr>\n",
       "</thead>\n",
       "<tbody>\n",
       "\t<tr><th scope=row>1</th><td>0.55</td><td>air</td></tr>\n",
       "\t<tr><th scope=row>2</th><td>0.48</td><td>air</td></tr>\n",
       "\t<tr><th scope=row>3</th><td>7.80</td><td>air</td></tr>\n",
       "</tbody>\n",
       "</table>\n"
      ],
      "text/latex": [
       "A data.frame: 3 × 2\n",
       "\\begin{tabular}{r|ll}\n",
       "  & CELLS & GROUP\\\\\n",
       "  & <dbl> & <chr>\\\\\n",
       "\\hline\n",
       "\t1 & 0.55 & air\\\\\n",
       "\t2 & 0.48 & air\\\\\n",
       "\t3 & 7.80 & air\\\\\n",
       "\\end{tabular}\n"
      ],
      "text/markdown": [
       "\n",
       "A data.frame: 3 × 2\n",
       "\n",
       "| <!--/--> | CELLS &lt;dbl&gt; | GROUP &lt;chr&gt; |\n",
       "|---|---|---|\n",
       "| 1 | 0.55 | air |\n",
       "| 2 | 0.48 | air |\n",
       "| 3 | 7.80 | air |\n",
       "\n"
      ],
      "text/plain": [
       "  CELLS GROUP\n",
       "1 0.55  air  \n",
       "2 0.48  air  \n",
       "3 7.80  air  "
      ]
     },
     "metadata": {},
     "output_type": "display_data"
    },
    {
     "name": "stderr",
     "output_type": "stream",
     "text": [
      "The following object is masked from data (pos = 3):\n",
      "\n",
      "    GROUP\n",
      "\n",
      "\n",
      "The following object is masked from data (pos = 4):\n",
      "\n",
      "    GROUP\n",
      "\n",
      "\n",
      "The following objects are masked from data (pos = 5):\n",
      "\n",
      "    CELLS, GROUP\n",
      "\n",
      "\n",
      "The following object is masked from data (pos = 6):\n",
      "\n",
      "    GROUP\n",
      "\n",
      "\n",
      "The following object is masked from data (pos = 7):\n",
      "\n",
      "    GROUP\n",
      "\n",
      "\n"
     ]
    }
   ],
   "source": [
    "data <- read.csv(\"data/ch13_all/EXR_C13_S08_04.csv\")\n",
    "head(data,3)\n",
    "attach(data)"
   ]
  },
  {
   "cell_type": "code",
   "execution_count": 16,
   "metadata": {
    "vscode": {
     "languageId": "r"
    }
   },
   "outputs": [
    {
     "data": {
      "text/plain": [
       "\n",
       "\tKruskal-Wallis rank sum test\n",
       "\n",
       "data:  CELLS by GROUP\n",
       "Kruskal-Wallis chi-squared = 1.7486, df = 2, p-value = 0.4172\n"
      ]
     },
     "metadata": {},
     "output_type": "display_data"
    }
   ],
   "source": [
    "kruskal.test(CELLS ~ GROUP, data = data)"
   ]
  },
  {
   "attachments": {},
   "cell_type": "markdown",
   "metadata": {},
   "source": [
    "#### 13.8.3\n",
    "\n",
    "A study of young children by Flexer et al. (A-9) published in the Hearing Journal examines the\n",
    "effectiveness of an FM sound field when teaching phonics to children. In the study, children in a\n",
    "classroom with no phonological or phonemic awareness training (control) were compared to a class\n",
    "with phonological and phonemic awareness (PPA) and to a class that utilized phonological and\n",
    "phonemic awareness training and the FM sound field (PPA/FM). A total of 53 students from three\n",
    "separate preschool classrooms participated in this study. Students were given a measure of phonemic\n",
    "awareness in preschool and then at the end of the first semester of kindergarten. The improvement\n",
    "scores are listed in the following table as measured by the Yopp–Singer Test of Phonemic\n",
    "Segmentation.\n",
    "\n",
    "Test for a significant difference among the three groups. Let $\\alpha$ = .05."
   ]
  },
  {
   "cell_type": "code",
   "execution_count": 17,
   "metadata": {
    "vscode": {
     "languageId": "r"
    }
   },
   "outputs": [
    {
     "data": {
      "text/html": [
       "<table class=\"dataframe\">\n",
       "<caption>A data.frame: 3 × 2</caption>\n",
       "<thead>\n",
       "\t<tr><th></th><th scope=col>IMP</th><th scope=col>GROUP</th></tr>\n",
       "\t<tr><th></th><th scope=col>&lt;int&gt;</th><th scope=col>&lt;int&gt;</th></tr>\n",
       "</thead>\n",
       "<tbody>\n",
       "\t<tr><th scope=row>1</th><td> 0</td><td>1</td></tr>\n",
       "\t<tr><th scope=row>2</th><td>-1</td><td>1</td></tr>\n",
       "\t<tr><th scope=row>3</th><td> 0</td><td>1</td></tr>\n",
       "</tbody>\n",
       "</table>\n"
      ],
      "text/latex": [
       "A data.frame: 3 × 2\n",
       "\\begin{tabular}{r|ll}\n",
       "  & IMP & GROUP\\\\\n",
       "  & <int> & <int>\\\\\n",
       "\\hline\n",
       "\t1 &  0 & 1\\\\\n",
       "\t2 & -1 & 1\\\\\n",
       "\t3 &  0 & 1\\\\\n",
       "\\end{tabular}\n"
      ],
      "text/markdown": [
       "\n",
       "A data.frame: 3 × 2\n",
       "\n",
       "| <!--/--> | IMP &lt;int&gt; | GROUP &lt;int&gt; |\n",
       "|---|---|---|\n",
       "| 1 |  0 | 1 |\n",
       "| 2 | -1 | 1 |\n",
       "| 3 |  0 | 1 |\n",
       "\n"
      ],
      "text/plain": [
       "  IMP GROUP\n",
       "1  0  1    \n",
       "2 -1  1    \n",
       "3  0  1    "
      ]
     },
     "metadata": {},
     "output_type": "display_data"
    },
    {
     "name": "stderr",
     "output_type": "stream",
     "text": [
      "The following object is masked from data (pos = 3):\n",
      "\n",
      "    GROUP\n",
      "\n",
      "\n",
      "The following object is masked from data (pos = 4):\n",
      "\n",
      "    GROUP\n",
      "\n",
      "\n",
      "The following object is masked from data (pos = 5):\n",
      "\n",
      "    GROUP\n",
      "\n",
      "\n",
      "The following object is masked from data (pos = 6):\n",
      "\n",
      "    GROUP\n",
      "\n",
      "\n",
      "The following object is masked from data (pos = 7):\n",
      "\n",
      "    GROUP\n",
      "\n",
      "\n",
      "The following object is masked from data (pos = 8):\n",
      "\n",
      "    GROUP\n",
      "\n",
      "\n"
     ]
    }
   ],
   "source": [
    "data <- read.csv(\"data/ch13_all/EXR_C13_S08_03.csv\")\n",
    "head(data, 3)\n",
    "attach(data)\n"
   ]
  },
  {
   "cell_type": "code",
   "execution_count": 18,
   "metadata": {
    "vscode": {
     "languageId": "r"
    }
   },
   "outputs": [
    {
     "data": {
      "text/plain": [
       "\n",
       "\tKruskal-Wallis rank sum test\n",
       "\n",
       "data:  IMP by GROUP\n",
       "Kruskal-Wallis chi-squared = 18.214, df = 2, p-value = 0.0001109\n"
      ]
     },
     "metadata": {},
     "output_type": "display_data"
    }
   ],
   "source": [
    "kruskal.test(IMP ~ GROUP)"
   ]
  },
  {
   "attachments": {},
   "cell_type": "markdown",
   "metadata": {},
   "source": [
    "##### 13.8.5\n",
    "\n",
    "The following table shows the pesticide residue levels (ppb) in blood samples from four populations\n",
    "of human subjects. Use the Kruskal–Wallis test to test at the .05 level of significance the null\n",
    "hypothesis that there is no difference among the populations with respect to average level of pesticide\n",
    "residue."
   ]
  },
  {
   "cell_type": "code",
   "execution_count": 19,
   "metadata": {
    "vscode": {
     "languageId": "r"
    }
   },
   "outputs": [
    {
     "data": {
      "text/html": [
       "<table class=\"dataframe\">\n",
       "<caption>A data.frame: 3 × 2</caption>\n",
       "<thead>\n",
       "\t<tr><th></th><th scope=col>PEST</th><th scope=col>GROUP</th></tr>\n",
       "\t<tr><th></th><th scope=col>&lt;int&gt;</th><th scope=col>&lt;chr&gt;</th></tr>\n",
       "</thead>\n",
       "<tbody>\n",
       "\t<tr><th scope=row>1</th><td>10</td><td>A</td></tr>\n",
       "\t<tr><th scope=row>2</th><td>37</td><td>A</td></tr>\n",
       "\t<tr><th scope=row>3</th><td>12</td><td>A</td></tr>\n",
       "</tbody>\n",
       "</table>\n"
      ],
      "text/latex": [
       "A data.frame: 3 × 2\n",
       "\\begin{tabular}{r|ll}\n",
       "  & PEST & GROUP\\\\\n",
       "  & <int> & <chr>\\\\\n",
       "\\hline\n",
       "\t1 & 10 & A\\\\\n",
       "\t2 & 37 & A\\\\\n",
       "\t3 & 12 & A\\\\\n",
       "\\end{tabular}\n"
      ],
      "text/markdown": [
       "\n",
       "A data.frame: 3 × 2\n",
       "\n",
       "| <!--/--> | PEST &lt;int&gt; | GROUP &lt;chr&gt; |\n",
       "|---|---|---|\n",
       "| 1 | 10 | A |\n",
       "| 2 | 37 | A |\n",
       "| 3 | 12 | A |\n",
       "\n"
      ],
      "text/plain": [
       "  PEST GROUP\n",
       "1 10   A    \n",
       "2 37   A    \n",
       "3 12   A    "
      ]
     },
     "metadata": {},
     "output_type": "display_data"
    },
    {
     "name": "stderr",
     "output_type": "stream",
     "text": [
      "The following object is masked from data (pos = 3):\n",
      "\n",
      "    GROUP\n",
      "\n",
      "\n",
      "The following object is masked from data (pos = 4):\n",
      "\n",
      "    GROUP\n",
      "\n",
      "\n",
      "The following object is masked from data (pos = 5):\n",
      "\n",
      "    GROUP\n",
      "\n",
      "\n",
      "The following object is masked from data (pos = 6):\n",
      "\n",
      "    GROUP\n",
      "\n",
      "\n",
      "The following object is masked from data (pos = 7):\n",
      "\n",
      "    GROUP\n",
      "\n",
      "\n",
      "The following object is masked from data (pos = 8):\n",
      "\n",
      "    GROUP\n",
      "\n",
      "\n",
      "The following object is masked from data (pos = 9):\n",
      "\n",
      "    GROUP\n",
      "\n",
      "\n"
     ]
    }
   ],
   "source": [
    "data <- read.csv(\"data/ch13_all/EXR_C13_S08_05.csv\")\n",
    "head(data,3)\n",
    "attach(data)"
   ]
  },
  {
   "cell_type": "code",
   "execution_count": 20,
   "metadata": {
    "vscode": {
     "languageId": "r"
    }
   },
   "outputs": [
    {
     "data": {
      "text/plain": [
       "\n",
       "\tKruskal-Wallis rank sum test\n",
       "\n",
       "data:  PEST by GROUP\n",
       "Kruskal-Wallis chi-squared = 19.606, df = 3, p-value = 0.0002048\n"
      ]
     },
     "metadata": {},
     "output_type": "display_data"
    }
   ],
   "source": [
    "kruskal.test(PEST~GROUP)"
   ]
  },
  {
   "attachments": {},
   "cell_type": "markdown",
   "metadata": {},
   "source": [
    "#### 13.8.6\n",
    "\n",
    "Hepatic g-glutamyl transpeptidase (GGTP) activity was measured in 22 patients undergoing\n",
    "percutaneous liver biopsy.\n",
    "\n",
    "Can we conclude from these sample data that the average population GGTP level differs among the\n",
    "five diagnostic groups? Let $\\alpha$ = .05 and find the p value."
   ]
  },
  {
   "cell_type": "code",
   "execution_count": 21,
   "metadata": {
    "vscode": {
     "languageId": "r"
    }
   },
   "outputs": [
    {
     "data": {
      "text/html": [
       "<table class=\"dataframe\">\n",
       "<caption>A data.frame: 6 × 3</caption>\n",
       "<thead>\n",
       "\t<tr><th></th><th scope=col>SUBJ</th><th scope=col>DIAG</th><th scope=col>LEVEL</th></tr>\n",
       "\t<tr><th></th><th scope=col>&lt;int&gt;</th><th scope=col>&lt;chr&gt;</th><th scope=col>&lt;dbl&gt;</th></tr>\n",
       "</thead>\n",
       "<tbody>\n",
       "\t<tr><th scope=row>1</th><td>1</td><td>NL </td><td>27.7</td></tr>\n",
       "\t<tr><th scope=row>2</th><td>2</td><td>PBC</td><td>45.9</td></tr>\n",
       "\t<tr><th scope=row>3</th><td>3</td><td>ALD</td><td>85.3</td></tr>\n",
       "\t<tr><th scope=row>4</th><td>4</td><td>PBC</td><td>39.0</td></tr>\n",
       "\t<tr><th scope=row>5</th><td>5</td><td>NL </td><td>25.8</td></tr>\n",
       "\t<tr><th scope=row>6</th><td>6</td><td>PH </td><td>39.6</td></tr>\n",
       "</tbody>\n",
       "</table>\n"
      ],
      "text/latex": [
       "A data.frame: 6 × 3\n",
       "\\begin{tabular}{r|lll}\n",
       "  & SUBJ & DIAG & LEVEL\\\\\n",
       "  & <int> & <chr> & <dbl>\\\\\n",
       "\\hline\n",
       "\t1 & 1 & NL  & 27.7\\\\\n",
       "\t2 & 2 & PBC & 45.9\\\\\n",
       "\t3 & 3 & ALD & 85.3\\\\\n",
       "\t4 & 4 & PBC & 39.0\\\\\n",
       "\t5 & 5 & NL  & 25.8\\\\\n",
       "\t6 & 6 & PH  & 39.6\\\\\n",
       "\\end{tabular}\n"
      ],
      "text/markdown": [
       "\n",
       "A data.frame: 6 × 3\n",
       "\n",
       "| <!--/--> | SUBJ &lt;int&gt; | DIAG &lt;chr&gt; | LEVEL &lt;dbl&gt; |\n",
       "|---|---|---|---|\n",
       "| 1 | 1 | NL  | 27.7 |\n",
       "| 2 | 2 | PBC | 45.9 |\n",
       "| 3 | 3 | ALD | 85.3 |\n",
       "| 4 | 4 | PBC | 39.0 |\n",
       "| 5 | 5 | NL  | 25.8 |\n",
       "| 6 | 6 | PH  | 39.6 |\n",
       "\n"
      ],
      "text/plain": [
       "  SUBJ DIAG LEVEL\n",
       "1 1    NL   27.7 \n",
       "2 2    PBC  45.9 \n",
       "3 3    ALD  85.3 \n",
       "4 4    PBC  39.0 \n",
       "5 5    NL   25.8 \n",
       "6 6    PH   39.6 "
      ]
     },
     "metadata": {},
     "output_type": "display_data"
    }
   ],
   "source": [
    "data <- read.csv(\"data/ch13_all/EXR_C13_S08_06.csv\")\n",
    "head(data)"
   ]
  },
  {
   "cell_type": "code",
   "execution_count": 23,
   "metadata": {
    "vscode": {
     "languageId": "r"
    }
   },
   "outputs": [],
   "source": [
    "attach(data)"
   ]
  },
  {
   "cell_type": "code",
   "execution_count": 24,
   "metadata": {
    "vscode": {
     "languageId": "r"
    }
   },
   "outputs": [
    {
     "data": {
      "text/plain": [
       "\n",
       "\tKruskal-Wallis rank sum test\n",
       "\n",
       "data:  LEVEL by DIAG\n",
       "Kruskal-Wallis chi-squared = 17.17, df = 4, p-value = 0.001792\n"
      ]
     },
     "metadata": {},
     "output_type": "display_data"
    }
   ],
   "source": [
    "kruskal.test(LEVEL ~ DIAG)"
   ]
  }
 ],
 "metadata": {
  "kernelspec": {
   "display_name": "R",
   "language": "R",
   "name": "ir"
  },
  "language_info": {
   "codemirror_mode": "r",
   "file_extension": ".r",
   "mimetype": "text/x-r-source",
   "name": "R",
   "pygments_lexer": "r",
   "version": "4.2.3"
  },
  "orig_nbformat": 4
 },
 "nbformat": 4,
 "nbformat_minor": 2
}
